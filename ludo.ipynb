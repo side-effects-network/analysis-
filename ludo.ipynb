{
 "cells": [
  {
   "cell_type": "code",
   "execution_count": 1,
   "metadata": {},
   "outputs": [],
   "source": [
    "import networkx as nx\n",
    "import pandas as pd\n",
    "import requests as rqs\n",
    "import re\n",
    "import os"
   ]
  },
  {
   "cell_type": "code",
   "execution_count": 2,
   "metadata": {},
   "outputs": [
    {
     "data": {
      "text/html": [
       "<div>\n",
       "<style scoped>\n",
       "    .dataframe tbody tr th:only-of-type {\n",
       "        vertical-align: middle;\n",
       "    }\n",
       "\n",
       "    .dataframe tbody tr th {\n",
       "        vertical-align: top;\n",
       "    }\n",
       "\n",
       "    .dataframe thead th {\n",
       "        text-align: right;\n",
       "    }\n",
       "</style>\n",
       "<table border=\"1\" class=\"dataframe\">\n",
       "  <thead>\n",
       "    <tr style=\"text-align: right;\">\n",
       "      <th></th>\n",
       "      <th># STITCH 1</th>\n",
       "      <th>STITCH 2</th>\n",
       "      <th>Polypharmacy Side Effect</th>\n",
       "      <th>Side Effect Name</th>\n",
       "    </tr>\n",
       "  </thead>\n",
       "  <tbody>\n",
       "    <tr>\n",
       "      <th>0</th>\n",
       "      <td>CID000002173</td>\n",
       "      <td>CID000003345</td>\n",
       "      <td>C0151714</td>\n",
       "      <td>hypermagnesemia</td>\n",
       "    </tr>\n",
       "    <tr>\n",
       "      <th>1</th>\n",
       "      <td>CID000002173</td>\n",
       "      <td>CID000003345</td>\n",
       "      <td>C0035344</td>\n",
       "      <td>retinopathy of prematurity</td>\n",
       "    </tr>\n",
       "    <tr>\n",
       "      <th>2</th>\n",
       "      <td>CID000002173</td>\n",
       "      <td>CID000003345</td>\n",
       "      <td>C0004144</td>\n",
       "      <td>atelectasis</td>\n",
       "    </tr>\n",
       "    <tr>\n",
       "      <th>3</th>\n",
       "      <td>CID000002173</td>\n",
       "      <td>CID000003345</td>\n",
       "      <td>C0002063</td>\n",
       "      <td>alkalosis</td>\n",
       "    </tr>\n",
       "    <tr>\n",
       "      <th>4</th>\n",
       "      <td>CID000002173</td>\n",
       "      <td>CID000003345</td>\n",
       "      <td>C0004604</td>\n",
       "      <td>Back Ache</td>\n",
       "    </tr>\n",
       "  </tbody>\n",
       "</table>\n",
       "</div>"
      ],
      "text/plain": [
       "     # STITCH 1      STITCH 2 Polypharmacy Side Effect  \\\n",
       "0  CID000002173  CID000003345                 C0151714   \n",
       "1  CID000002173  CID000003345                 C0035344   \n",
       "2  CID000002173  CID000003345                 C0004144   \n",
       "3  CID000002173  CID000003345                 C0002063   \n",
       "4  CID000002173  CID000003345                 C0004604   \n",
       "\n",
       "             Side Effect Name  \n",
       "0             hypermagnesemia  \n",
       "1  retinopathy of prematurity  \n",
       "2                 atelectasis  \n",
       "3                   alkalosis  \n",
       "4                   Back Ache  "
      ]
     },
     "execution_count": 2,
     "metadata": {},
     "output_type": "execute_result"
    }
   ],
   "source": [
    "df = pd.read_csv(\"data/ChChSe-Decagon_polypharmacy.csv\")\n",
    "df.head()"
   ]
  },
  {
   "cell_type": "code",
   "execution_count": 38,
   "metadata": {},
   "outputs": [],
   "source": [
    "def cid_to_name(cid):\n",
    "\n",
    "    pattern = r\"CID0+(\\d+)\"\n",
    "    norm_cid = re.search(pattern, cid).group(1)\n",
    "    url = f\"https://pubchem.ncbi.nlm.nih.gov/rest/pug/compound/cid/{norm_cid}/property/Title/TXT\"\n",
    "    response = rqs.get(url)\n",
    "\n",
    "    if response.status_code == 200:\n",
    "        return response.text.strip()  # Rimuove eventuali spazi o newline extra\n",
    "    else:\n",
    "        return \"Errore nella richiesta\"\n",
    "\n",
    "\n",
    "def name_to_cid(drug_name):\n",
    "    url = (\n",
    "        f\"https://pubchem.ncbi.nlm.nih.gov/rest/pug/compound/name/{drug_name}/cids/TXT\"\n",
    "    )\n",
    "\n",
    "    response = rqs.get(url)\n",
    "\n",
    "    if response.status_code == 200:\n",
    "        cid = response.text.strip()\n",
    "        n_zeros = 12 - len(cid) - 3\n",
    "        return f\"CID{''.join(['0' for n in range(n_zeros)])}{cid}\"\n",
    "    else:\n",
    "        return f\"Skibidi status - {response.status_code}: {drug_name} got no rizz fr fr\""
   ]
  },
  {
   "cell_type": "markdown",
   "metadata": {},
   "source": [
    "### construct the graph"
   ]
  },
  {
   "cell_type": "code",
   "execution_count": 5,
   "metadata": {},
   "outputs": [],
   "source": [
    "G = nx.from_pandas_edgelist(\n",
    "    df,\n",
    "    source=\"# STITCH 1\",\n",
    "    target=\"STITCH 2\",\n",
    "    edge_attr=[\"Polypharmacy Side Effect\"],\n",
    "    create_using=nx.MultiGraph(),\n",
    ")"
   ]
  },
  {
   "cell_type": "markdown",
   "metadata": {},
   "source": [
    "#### Degree centrality\n",
    "\n",
    "In a MultiGraph, degree centrality counts the total number of edges connected to a node, including all parallel edges.\n",
    "\n",
    "\n",
    "\n",
    "What It Measures: The number of drugs a given drug interacts with (i.e., has side effects when combined)."
   ]
  },
  {
   "cell_type": "code",
   "execution_count": 43,
   "metadata": {},
   "outputs": [
    {
     "name": "stdout",
     "output_type": "stream",
     "text": [
      "Omeprazole 123.19099378881987\n",
      "1,4-Pregnadiene-17alpha,21-diol-3,11,20-trione 121.46739130434781\n",
      "Lorazepam 109.8447204968944\n",
      "DL-Thyroxine 108.74223602484471\n",
      "Rofecoxib 108.71894409937887\n"
     ]
    }
   ],
   "source": [
    "degree_centrality = nx.degree_centrality(G)\n",
    "sort_degree_centrality = sorted(degree_centrality.items(), key=lambda x: x[1], reverse=True)\n",
    "for cid, score in sort_degree_centrality[:5]:\n",
    "    print(cid_to_name(cid), score)"
   ]
  },
  {
   "cell_type": "markdown",
   "metadata": {},
   "source": [
    "#### edge multiplicity"
   ]
  },
  {
   "cell_type": "code",
   "execution_count": 44,
   "metadata": {},
   "outputs": [
    {
     "name": "stdout",
     "output_type": "stream",
     "text": [
      "Lansoprazole Omeprazole 540\n",
      "Lansoprazole Celecoxib 524\n",
      "Rofecoxib Omeprazole 494\n",
      "Rofecoxib Zolpidem 478\n",
      "Gabapentin Celecoxib 476\n"
     ]
    }
   ],
   "source": [
    "edge_multiplicity = {(u, v): len(G[u][v]) for u, v in G.edges()}\n",
    "\n",
    "sort_edge_multiplicity = sorted(\n",
    "    edge_multiplicity.items(), key=lambda x: x[1], reverse=True\n",
    ")\n",
    "for nodes, score in sort_edge_multiplicity[:5]:\n",
    "    cid_1, cid_2 = nodes\n",
    "    print(cid_to_name(cid_1), cid_to_name(cid_2), score)"
   ]
  },
  {
   "cell_type": "markdown",
   "metadata": {},
   "source": [
    "#### degree per node"
   ]
  },
  {
   "cell_type": "code",
   "execution_count": 46,
   "metadata": {},
   "outputs": [
    {
     "name": "stdout",
     "output_type": "stream",
     "text": [
      "Omeprazole 79335\n",
      "1,4-Pregnadiene-17alpha,21-diol-3,11,20-trione 78225\n",
      "Lorazepam 70740\n",
      "DL-Thyroxine 70030\n",
      "Rofecoxib 70015\n"
     ]
    }
   ],
   "source": [
    "degree_per_node = dict(G.degree())\n",
    "sorted_degree_per_node = sorted(\n",
    "    degree_per_node.items(), key=lambda x: x[1], reverse=True\n",
    ")\n",
    "\n",
    "for cid, score in sorted_degree_per_node[:5]:\n",
    "    print(cid_to_name(cid), score)"
   ]
  },
  {
   "cell_type": "code",
   "execution_count": 47,
   "metadata": {},
   "outputs": [],
   "source": [
    "cliques = list(nx.find_cliques(G))"
   ]
  },
  {
   "cell_type": "code",
   "execution_count": 49,
   "metadata": {},
   "outputs": [
    {
     "data": {
      "text/plain": [
       "23043739"
      ]
     },
     "execution_count": 49,
     "metadata": {},
     "output_type": "execute_result"
    }
   ],
   "source": [
    "len(cliques)"
   ]
  },
  {
   "cell_type": "markdown",
   "metadata": {},
   "source": [
    "#### Analysis on most used drugs"
   ]
  },
  {
   "cell_type": "code",
   "execution_count": 42,
   "metadata": {},
   "outputs": [],
   "source": [
    "if os.path.isfile(\"data/ranked_drugs_matching.csv\"):\n",
    "    most_used = pd.read_csv(\"data/ranked_drugs_matching.csv\")\n",
    "else:\n",
    "    rank_drugs = pd.read_csv(\"data/top_300_drugs.csv\")\n",
    "    drugs_in_nw = df[\"# STITCH 1\"].unique().tolist()\n",
    "    drugs_in_nw += df[\"STITCH 2\"].unique().tolist()\n",
    "    drugs_in_nw = list(set(drugs_in_nw))\n",
    "\n",
    "    drugs_present_in_both = []\n",
    "    for idx, row in rank_drugs.iterrows():\n",
    "        drug = row[\"Drug Name\"]\n",
    "        rank = row[\"Rank\"]\n",
    "        cid = name_to_cid(drug)\n",
    "        if cid in drugs_in_nw:\n",
    "            drugs_present_in_both.append([rank, drug, cid])\n",
    "\n",
    "    most_used = pd.DataFrame(drugs_present_in_both, columns=[\"rank\", \"drug_name\", \"cid\"])\n",
    "    most_used.to_csv(\"data/ranked_drugs_matching.csv\", index=False)"
   ]
  },
  {
   "cell_type": "code",
   "execution_count": 40,
   "metadata": {},
   "outputs": [
    {
     "data": {
      "text/html": [
       "<div>\n",
       "<style scoped>\n",
       "    .dataframe tbody tr th:only-of-type {\n",
       "        vertical-align: middle;\n",
       "    }\n",
       "\n",
       "    .dataframe tbody tr th {\n",
       "        vertical-align: top;\n",
       "    }\n",
       "\n",
       "    .dataframe thead th {\n",
       "        text-align: right;\n",
       "    }\n",
       "</style>\n",
       "<table border=\"1\" class=\"dataframe\">\n",
       "  <thead>\n",
       "    <tr style=\"text-align: right;\">\n",
       "      <th></th>\n",
       "      <th>rank</th>\n",
       "      <th>drug_name</th>\n",
       "    </tr>\n",
       "  </thead>\n",
       "  <tbody>\n",
       "    <tr>\n",
       "      <th>0</th>\n",
       "      <td>2</td>\n",
       "      <td>Metformin</td>\n",
       "    </tr>\n",
       "    <tr>\n",
       "      <th>1</th>\n",
       "      <td>5</td>\n",
       "      <td>Amlodipine</td>\n",
       "    </tr>\n",
       "    <tr>\n",
       "      <th>2</th>\n",
       "      <td>6</td>\n",
       "      <td>Metoprolol</td>\n",
       "    </tr>\n",
       "    <tr>\n",
       "      <th>3</th>\n",
       "      <td>7</td>\n",
       "      <td>Albuterol</td>\n",
       "    </tr>\n",
       "    <tr>\n",
       "      <th>4</th>\n",
       "      <td>8</td>\n",
       "      <td>Losartan</td>\n",
       "    </tr>\n",
       "  </tbody>\n",
       "</table>\n",
       "</div>"
      ],
      "text/plain": [
       "   rank   drug_name\n",
       "0     2   Metformin\n",
       "1     5  Amlodipine\n",
       "2     6  Metoprolol\n",
       "3     7   Albuterol\n",
       "4     8    Losartan"
      ]
     },
     "execution_count": 40,
     "metadata": {},
     "output_type": "execute_result"
    }
   ],
   "source": [
    "most_used.head()"
   ]
  },
  {
   "cell_type": "code",
   "execution_count": null,
   "metadata": {},
   "outputs": [],
   "source": [
    "most_used_score = {}\n",
    "for idx, row in most_used.iterrows():\n",
    "   row[\"drug_name\"]"
   ]
  }
 ],
 "metadata": {
  "kernelspec": {
   "display_name": "Python 3",
   "language": "python",
   "name": "python3"
  },
  "language_info": {
   "codemirror_mode": {
    "name": "ipython",
    "version": 3
   },
   "file_extension": ".py",
   "mimetype": "text/x-python",
   "name": "python",
   "nbconvert_exporter": "python",
   "pygments_lexer": "ipython3",
   "version": "3.12.1"
  }
 },
 "nbformat": 4,
 "nbformat_minor": 2
}
