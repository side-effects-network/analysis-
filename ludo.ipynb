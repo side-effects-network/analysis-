{
 "cells": [
  {
   "cell_type": "code",
   "execution_count": 38,
   "metadata": {},
   "outputs": [],
   "source": [
    "import networkx as nx\n",
    "import pandas as pd\n",
    "import requests as rqs\n",
    "import re\n",
    "import os\n",
    "from operator import itemgetter"
   ]
  },
  {
   "cell_type": "code",
   "execution_count": 2,
   "metadata": {},
   "outputs": [
    {
     "data": {
      "text/html": [
       "<div>\n",
       "<style scoped>\n",
       "    .dataframe tbody tr th:only-of-type {\n",
       "        vertical-align: middle;\n",
       "    }\n",
       "\n",
       "    .dataframe tbody tr th {\n",
       "        vertical-align: top;\n",
       "    }\n",
       "\n",
       "    .dataframe thead th {\n",
       "        text-align: right;\n",
       "    }\n",
       "</style>\n",
       "<table border=\"1\" class=\"dataframe\">\n",
       "  <thead>\n",
       "    <tr style=\"text-align: right;\">\n",
       "      <th></th>\n",
       "      <th># STITCH 1</th>\n",
       "      <th>STITCH 2</th>\n",
       "      <th>Polypharmacy Side Effect</th>\n",
       "      <th>Side Effect Name</th>\n",
       "    </tr>\n",
       "  </thead>\n",
       "  <tbody>\n",
       "    <tr>\n",
       "      <th>0</th>\n",
       "      <td>CID000002173</td>\n",
       "      <td>CID000003345</td>\n",
       "      <td>C0151714</td>\n",
       "      <td>hypermagnesemia</td>\n",
       "    </tr>\n",
       "    <tr>\n",
       "      <th>1</th>\n",
       "      <td>CID000002173</td>\n",
       "      <td>CID000003345</td>\n",
       "      <td>C0035344</td>\n",
       "      <td>retinopathy of prematurity</td>\n",
       "    </tr>\n",
       "    <tr>\n",
       "      <th>2</th>\n",
       "      <td>CID000002173</td>\n",
       "      <td>CID000003345</td>\n",
       "      <td>C0004144</td>\n",
       "      <td>atelectasis</td>\n",
       "    </tr>\n",
       "    <tr>\n",
       "      <th>3</th>\n",
       "      <td>CID000002173</td>\n",
       "      <td>CID000003345</td>\n",
       "      <td>C0002063</td>\n",
       "      <td>alkalosis</td>\n",
       "    </tr>\n",
       "    <tr>\n",
       "      <th>4</th>\n",
       "      <td>CID000002173</td>\n",
       "      <td>CID000003345</td>\n",
       "      <td>C0004604</td>\n",
       "      <td>Back Ache</td>\n",
       "    </tr>\n",
       "  </tbody>\n",
       "</table>\n",
       "</div>"
      ],
      "text/plain": [
       "     # STITCH 1      STITCH 2 Polypharmacy Side Effect  \\\n",
       "0  CID000002173  CID000003345                 C0151714   \n",
       "1  CID000002173  CID000003345                 C0035344   \n",
       "2  CID000002173  CID000003345                 C0004144   \n",
       "3  CID000002173  CID000003345                 C0002063   \n",
       "4  CID000002173  CID000003345                 C0004604   \n",
       "\n",
       "             Side Effect Name  \n",
       "0             hypermagnesemia  \n",
       "1  retinopathy of prematurity  \n",
       "2                 atelectasis  \n",
       "3                   alkalosis  \n",
       "4                   Back Ache  "
      ]
     },
     "execution_count": 2,
     "metadata": {},
     "output_type": "execute_result"
    }
   ],
   "source": [
    "df = pd.read_csv(\"data/ChChSe-Decagon_polypharmacy.csv\")\n",
    "df.head()"
   ]
  },
  {
   "cell_type": "code",
   "execution_count": 3,
   "metadata": {},
   "outputs": [
    {
     "data": {
      "text/html": [
       "<div>\n",
       "<style scoped>\n",
       "    .dataframe tbody tr th:only-of-type {\n",
       "        vertical-align: middle;\n",
       "    }\n",
       "\n",
       "    .dataframe tbody tr th {\n",
       "        vertical-align: top;\n",
       "    }\n",
       "\n",
       "    .dataframe thead th {\n",
       "        text-align: right;\n",
       "    }\n",
       "</style>\n",
       "<table border=\"1\" class=\"dataframe\">\n",
       "  <thead>\n",
       "    <tr style=\"text-align: right;\">\n",
       "      <th></th>\n",
       "      <th>Side effect</th>\n",
       "      <th>Perceived fear score</th>\n",
       "    </tr>\n",
       "  </thead>\n",
       "  <tbody>\n",
       "    <tr>\n",
       "      <th>0</th>\n",
       "      <td>hypermagnesemia</td>\n",
       "      <td>0.471916</td>\n",
       "    </tr>\n",
       "    <tr>\n",
       "      <th>1</th>\n",
       "      <td>retinopathy of prematurity</td>\n",
       "      <td>0.457460</td>\n",
       "    </tr>\n",
       "    <tr>\n",
       "      <th>2</th>\n",
       "      <td>atelectasis</td>\n",
       "      <td>0.693081</td>\n",
       "    </tr>\n",
       "    <tr>\n",
       "      <th>3</th>\n",
       "      <td>alkalosis</td>\n",
       "      <td>0.401998</td>\n",
       "    </tr>\n",
       "    <tr>\n",
       "      <th>4</th>\n",
       "      <td>Back Ache</td>\n",
       "      <td>0.289684</td>\n",
       "    </tr>\n",
       "  </tbody>\n",
       "</table>\n",
       "</div>"
      ],
      "text/plain": [
       "                  Side effect  Perceived fear score\n",
       "0             hypermagnesemia              0.471916\n",
       "1  retinopathy of prematurity              0.457460\n",
       "2                 atelectasis              0.693081\n",
       "3                   alkalosis              0.401998\n",
       "4                   Back Ache              0.289684"
      ]
     },
     "execution_count": 3,
     "metadata": {},
     "output_type": "execute_result"
    }
   ],
   "source": [
    "weights = pd.read_csv(\"data/weighted_side_effects.csv\").drop(\n",
    "    columns=[\"Id\"]\n",
    ")\n",
    "weights.head()"
   ]
  },
  {
   "cell_type": "code",
   "execution_count": 4,
   "metadata": {},
   "outputs": [
    {
     "data": {
      "text/html": [
       "<div>\n",
       "<style scoped>\n",
       "    .dataframe tbody tr th:only-of-type {\n",
       "        vertical-align: middle;\n",
       "    }\n",
       "\n",
       "    .dataframe tbody tr th {\n",
       "        vertical-align: top;\n",
       "    }\n",
       "\n",
       "    .dataframe thead th {\n",
       "        text-align: right;\n",
       "    }\n",
       "</style>\n",
       "<table border=\"1\" class=\"dataframe\">\n",
       "  <thead>\n",
       "    <tr style=\"text-align: right;\">\n",
       "      <th></th>\n",
       "      <th># STITCH 1</th>\n",
       "      <th>STITCH 2</th>\n",
       "      <th>Polypharmacy Side Effect</th>\n",
       "      <th>Side Effect Name</th>\n",
       "      <th>Side effect</th>\n",
       "      <th>Perceived fear score</th>\n",
       "    </tr>\n",
       "  </thead>\n",
       "  <tbody>\n",
       "    <tr>\n",
       "      <th>0</th>\n",
       "      <td>CID000002173</td>\n",
       "      <td>CID000003345</td>\n",
       "      <td>C0151714</td>\n",
       "      <td>hypermagnesemia</td>\n",
       "      <td>hypermagnesemia</td>\n",
       "      <td>0.471916</td>\n",
       "    </tr>\n",
       "    <tr>\n",
       "      <th>1</th>\n",
       "      <td>CID000002173</td>\n",
       "      <td>CID000003345</td>\n",
       "      <td>C0035344</td>\n",
       "      <td>retinopathy of prematurity</td>\n",
       "      <td>retinopathy of prematurity</td>\n",
       "      <td>0.457460</td>\n",
       "    </tr>\n",
       "    <tr>\n",
       "      <th>2</th>\n",
       "      <td>CID000002173</td>\n",
       "      <td>CID000003345</td>\n",
       "      <td>C0004144</td>\n",
       "      <td>atelectasis</td>\n",
       "      <td>atelectasis</td>\n",
       "      <td>0.693081</td>\n",
       "    </tr>\n",
       "    <tr>\n",
       "      <th>3</th>\n",
       "      <td>CID000002173</td>\n",
       "      <td>CID000003345</td>\n",
       "      <td>C0002063</td>\n",
       "      <td>alkalosis</td>\n",
       "      <td>alkalosis</td>\n",
       "      <td>0.401998</td>\n",
       "    </tr>\n",
       "    <tr>\n",
       "      <th>4</th>\n",
       "      <td>CID000002173</td>\n",
       "      <td>CID000003345</td>\n",
       "      <td>C0004604</td>\n",
       "      <td>Back Ache</td>\n",
       "      <td>Back Ache</td>\n",
       "      <td>0.289684</td>\n",
       "    </tr>\n",
       "  </tbody>\n",
       "</table>\n",
       "</div>"
      ],
      "text/plain": [
       "     # STITCH 1      STITCH 2 Polypharmacy Side Effect  \\\n",
       "0  CID000002173  CID000003345                 C0151714   \n",
       "1  CID000002173  CID000003345                 C0035344   \n",
       "2  CID000002173  CID000003345                 C0004144   \n",
       "3  CID000002173  CID000003345                 C0002063   \n",
       "4  CID000002173  CID000003345                 C0004604   \n",
       "\n",
       "             Side Effect Name                 Side effect  \\\n",
       "0             hypermagnesemia             hypermagnesemia   \n",
       "1  retinopathy of prematurity  retinopathy of prematurity   \n",
       "2                 atelectasis                 atelectasis   \n",
       "3                   alkalosis                   alkalosis   \n",
       "4                   Back Ache                   Back Ache   \n",
       "\n",
       "   Perceived fear score  \n",
       "0              0.471916  \n",
       "1              0.457460  \n",
       "2              0.693081  \n",
       "3              0.401998  \n",
       "4              0.289684  "
      ]
     },
     "execution_count": 4,
     "metadata": {},
     "output_type": "execute_result"
    }
   ],
   "source": [
    "weighted_data = pd.merge(\n",
    "    df, weights, left_on=\"Side Effect Name\", right_on=\"Side effect\", how=\"left\"\n",
    ")\n",
    "weighted_data.head()"
   ]
  },
  {
   "cell_type": "code",
   "execution_count": 5,
   "metadata": {},
   "outputs": [],
   "source": [
    "def cid_to_name(cid):\n",
    "\n",
    "    pattern = r\"CID0+(\\d+)\"\n",
    "    norm_cid = re.search(pattern, cid).group(1)\n",
    "    url = f\"https://pubchem.ncbi.nlm.nih.gov/rest/pug/compound/cid/{norm_cid}/property/Title/TXT\"\n",
    "    response = rqs.get(url)\n",
    "\n",
    "    if response.status_code == 200:\n",
    "        return response.text.strip()  # Rimuove eventuali spazi o newline extra\n",
    "    else:\n",
    "        return \"Errore nella richiesta\"\n",
    "\n",
    "\n",
    "def name_to_cid(drug_name):\n",
    "    url = (\n",
    "        f\"https://pubchem.ncbi.nlm.nih.gov/rest/pug/compound/name/{drug_name}/cids/TXT\"\n",
    "    )\n",
    "\n",
    "    response = rqs.get(url)\n",
    "\n",
    "    if response.status_code == 200:\n",
    "        cid = response.text.strip()\n",
    "        n_zeros = 12 - len(cid) - 3\n",
    "        return f\"CID{''.join(['0' for n in range(n_zeros)])}{cid}\"\n",
    "    else:\n",
    "        return f\"Skibidi status - {response.status_code}: {drug_name} got no rizz fr fr\""
   ]
  },
  {
   "cell_type": "markdown",
   "metadata": {},
   "source": [
    "### construct the graph"
   ]
  },
  {
   "cell_type": "code",
   "execution_count": 6,
   "metadata": {},
   "outputs": [],
   "source": [
    "G = nx.from_pandas_edgelist(\n",
    "    weighted_data,\n",
    "    source=\"# STITCH 1\",\n",
    "    target=\"STITCH 2\",\n",
    "    edge_attr=[\"Polypharmacy Side Effect\", \"Perceived fear score\"],\n",
    "    create_using=nx.MultiGraph(),\n",
    ")"
   ]
  },
  {
   "cell_type": "markdown",
   "metadata": {},
   "source": [
    "#### Degree centrality\n",
    "\n",
    "In a MultiGraph, degree centrality counts the total number of edges connected to a node, including all parallel edges.\n",
    "\n",
    "\n",
    "\n",
    "What It Measures: The number of drugs a given drug interacts with (i.e., has side effects when combined)."
   ]
  },
  {
   "cell_type": "code",
   "execution_count": 26,
   "metadata": {},
   "outputs": [
    {
     "name": "stdout",
     "output_type": "stream",
     "text": [
      "Omeprazole 123.19099378881987\n",
      "1,4-Pregnadiene-17alpha,21-diol-3,11,20-trione 121.46739130434781\n",
      "Lorazepam 109.8447204968944\n",
      "DL-Thyroxine 108.74223602484471\n",
      "Rofecoxib 108.71894409937887\n"
     ]
    }
   ],
   "source": [
    "degree_centrality = nx.degree_centrality(G)\n",
    "sorted_degree_centrality = sorted(degree_centrality.items(), key=lambda x: x[1], reverse=True)\n",
    "for cid, score in sorted_degree_centrality[:5]:\n",
    "    print(cid_to_name(cid), score)"
   ]
  },
  {
   "cell_type": "markdown",
   "metadata": {},
   "source": [
    "#### edge multiplicity"
   ]
  },
  {
   "cell_type": "code",
   "execution_count": 27,
   "metadata": {},
   "outputs": [
    {
     "name": "stdout",
     "output_type": "stream",
     "text": [
      "Lansoprazole Omeprazole 540\n",
      "Lansoprazole Celecoxib 524\n",
      "Rofecoxib Omeprazole 494\n",
      "Rofecoxib Zolpidem 478\n",
      "Gabapentin Celecoxib 476\n"
     ]
    }
   ],
   "source": [
    "edge_multiplicity = {(u, v): len(G[u][v]) for u, v in G.edges()}\n",
    "\n",
    "sorted_edge_multiplicity = sorted(\n",
    "    edge_multiplicity.items(), key=lambda x: x[1], reverse=True\n",
    ")\n",
    "for nodes, score in sorted_edge_multiplicity[:5]:\n",
    "    cid_1, cid_2 = nodes\n",
    "    print(cid_to_name(cid_1), cid_to_name(cid_2), score)"
   ]
  },
  {
   "cell_type": "markdown",
   "metadata": {},
   "source": [
    "#### degree per node"
   ]
  },
  {
   "cell_type": "code",
   "execution_count": 28,
   "metadata": {},
   "outputs": [
    {
     "name": "stdout",
     "output_type": "stream",
     "text": [
      "Omeprazole 79335\n",
      "1,4-Pregnadiene-17alpha,21-diol-3,11,20-trione 78225\n",
      "Lorazepam 70740\n",
      "DL-Thyroxine 70030\n",
      "Rofecoxib 70015\n"
     ]
    }
   ],
   "source": [
    "degree_per_node = dict(G.degree())\n",
    "sorted_degree_per_node = sorted(\n",
    "    degree_per_node.items(), key=lambda x: x[1], reverse=True\n",
    ")\n",
    "\n",
    "for cid, score in sorted_degree_per_node[:5]:\n",
    "    print(cid_to_name(cid), score)"
   ]
  },
  {
   "cell_type": "markdown",
   "metadata": {},
   "source": [
    "#### degree per node weighted"
   ]
  },
  {
   "cell_type": "code",
   "execution_count": null,
   "metadata": {},
   "outputs": [],
   "source": [
    "weighted_degrees = {}\n",
    "for node in G.nodes:\n",
    "    weighted_degree = sum(\n",
    "        G[u][v][key].get(\"Perceived fear score\", 0)\n",
    "        for u, v, key in G.edges(node, keys=True)  # Iterate over all edges of the node\n",
    "    )\n",
    "    weighted_degrees[node] = weighted_degree\n",
    "\n",
    "sorted_weighted_degrees = sorted(\n",
    "    weighted_degrees.items(), key=lambda x: x[1], reverse=True\n",
    ")"
   ]
  },
  {
   "cell_type": "code",
   "execution_count": null,
   "metadata": {},
   "outputs": [
    {
     "name": "stdout",
     "output_type": "stream",
     "text": [
      "Omeprazole 32807.673254430054\n",
      "1,4-Pregnadiene-17alpha,21-diol-3,11,20-trione 32716.54036732952\n",
      "Lorazepam 29996.598305576954\n",
      "Zolpidem 29128.420431400013\n",
      "Acetaminophen 29060.579033013142\n"
     ]
    }
   ],
   "source": [
    "for cid, score in sorted_weighted_degrees[:5]:\n",
    "    print(cid_to_name(cid), score)"
   ]
  },
  {
   "cell_type": "markdown",
   "metadata": {},
   "source": [
    "#### degree per node weighted NORMALIZED"
   ]
  },
  {
   "cell_type": "code",
   "execution_count": 32,
   "metadata": {},
   "outputs": [
    {
     "name": "stdout",
     "output_type": "stream",
     "text": [
      "CID000145068 0.5192658859389547\n",
      "CID000004675 0.5051913038387866\n",
      "CID000036339 0.5051303354118789\n",
      "CID000036811 0.49290672432451305\n",
      "CID000002232 0.4828852222989256\n"
     ]
    }
   ],
   "source": [
    "normalized_weighted_degrees = {}\n",
    "\n",
    "for node in G.nodes:\n",
    "    edges = list(G.edges(node, keys=True))\n",
    "\n",
    "    weighted_degree = sum(\n",
    "        G[u][v][key].get(\"Perceived fear score\", 0) for u, v, key in edges\n",
    "    )\n",
    "\n",
    "    normalized_weighted_degree = weighted_degree / len(edges) \n",
    "\n",
    "    normalized_weighted_degrees[node] = normalized_weighted_degree\n",
    "\n",
    "sorted_normalized_weighted_degrees = sorted(\n",
    "    normalized_weighted_degrees.items(), key=lambda x: x[1], reverse=True\n",
    ")\n",
    "\n",
    "for cid, score in sorted_normalized_weighted_degrees[:5]:\n",
    "    print(cid, score)"
   ]
  },
  {
   "cell_type": "markdown",
   "metadata": {},
   "source": [
    "#### Analysis on most used drugs"
   ]
  },
  {
   "cell_type": "code",
   "execution_count": 23,
   "metadata": {},
   "outputs": [
    {
     "data": {
      "text/html": [
       "<div>\n",
       "<style scoped>\n",
       "    .dataframe tbody tr th:only-of-type {\n",
       "        vertical-align: middle;\n",
       "    }\n",
       "\n",
       "    .dataframe tbody tr th {\n",
       "        vertical-align: top;\n",
       "    }\n",
       "\n",
       "    .dataframe thead th {\n",
       "        text-align: right;\n",
       "    }\n",
       "</style>\n",
       "<table border=\"1\" class=\"dataframe\">\n",
       "  <thead>\n",
       "    <tr style=\"text-align: right;\">\n",
       "      <th></th>\n",
       "      <th>rank</th>\n",
       "      <th>drug_name</th>\n",
       "      <th>cid</th>\n",
       "    </tr>\n",
       "  </thead>\n",
       "  <tbody>\n",
       "    <tr>\n",
       "      <th>0</th>\n",
       "      <td>2</td>\n",
       "      <td>Metformin</td>\n",
       "      <td>CID000004091</td>\n",
       "    </tr>\n",
       "    <tr>\n",
       "      <th>1</th>\n",
       "      <td>5</td>\n",
       "      <td>Amlodipine</td>\n",
       "      <td>CID000002162</td>\n",
       "    </tr>\n",
       "    <tr>\n",
       "      <th>2</th>\n",
       "      <td>6</td>\n",
       "      <td>Metoprolol</td>\n",
       "      <td>CID000004171</td>\n",
       "    </tr>\n",
       "    <tr>\n",
       "      <th>3</th>\n",
       "      <td>7</td>\n",
       "      <td>Albuterol</td>\n",
       "      <td>CID000002083</td>\n",
       "    </tr>\n",
       "    <tr>\n",
       "      <th>4</th>\n",
       "      <td>8</td>\n",
       "      <td>Losartan</td>\n",
       "      <td>CID000003961</td>\n",
       "    </tr>\n",
       "  </tbody>\n",
       "</table>\n",
       "</div>"
      ],
      "text/plain": [
       "   rank   drug_name           cid\n",
       "0     2   Metformin  CID000004091\n",
       "1     5  Amlodipine  CID000002162\n",
       "2     6  Metoprolol  CID000004171\n",
       "3     7   Albuterol  CID000002083\n",
       "4     8    Losartan  CID000003961"
      ]
     },
     "execution_count": 23,
     "metadata": {},
     "output_type": "execute_result"
    }
   ],
   "source": [
    "if os.path.isfile(\"data/ranked_drugs_matching.csv\"):\n",
    "    most_used = pd.read_csv(\"data/ranked_drugs_matching.csv\")\n",
    "else:\n",
    "    rank_drugs = pd.read_csv(\"data/top_300_drugs.csv\")\n",
    "    drugs_in_nw = df[\"# STITCH 1\"].unique().tolist()\n",
    "    drugs_in_nw += df[\"STITCH 2\"].unique().tolist()\n",
    "    drugs_in_nw = list(set(drugs_in_nw))\n",
    "\n",
    "    drugs_present_in_both = []\n",
    "    for idx, row in rank_drugs.iterrows():\n",
    "        drug = row[\"Drug Name\"]\n",
    "        rank = row[\"Rank\"]\n",
    "        cid = name_to_cid(drug)\n",
    "        if cid in drugs_in_nw:\n",
    "            drugs_present_in_both.append([rank, drug, cid])\n",
    "\n",
    "    most_used = pd.DataFrame(drugs_present_in_both, columns=[\"rank\", \"drug_name\", \"cid\"])\n",
    "    most_used.to_csv(\"data/ranked_drugs_matching.csv\", index=False)\n",
    "most_used.head()"
   ]
  },
  {
   "cell_type": "code",
   "execution_count": 49,
   "metadata": {},
   "outputs": [],
   "source": [
    "if os.path.isfile(\"data/top_300_measures.csv\"):\n",
    "    most_used = pd.read_csv(\"data/top_300_measures.csv\")\n",
    "else:\n",
    "    def get_tuple_and_index(data, value):\n",
    "        return next(((i, t[1]) for i, t in enumerate(data) if value in t), None)\n",
    "\n",
    "    most_used_score = {\n",
    "        \"cid\": [],\n",
    "        \"drug_name\": [],\n",
    "        \"rank\": [],\n",
    "        \"degree\": [],\n",
    "        \"weighted_degree\": [],\n",
    "        \"averaged_weighted_degree\": []\n",
    "    }\n",
    "\n",
    "    for idx, row in most_used.iterrows():\n",
    "        cid = row[\"cid\"]\n",
    "        most_used_score[\"cid\"].append(cid)\n",
    "        most_used_score[\"drug_name\"].append(row[\"drug_name\"])\n",
    "        most_used_score[\"rank\"].append(row[\"rank\"])\n",
    "        most_used_score[\"degree\"].append(get_tuple_and_index(sorted_degree_centrality, cid))\n",
    "        most_used_score[\"weighted_degree\"].append(\n",
    "            get_tuple_and_index(sorted_weighted_degrees, cid)\n",
    "        )\n",
    "        most_used_score[\"averaged_weighted_degree\"].append(\n",
    "            get_tuple_and_index(sorted_normalized_weighted_degrees, cid)\n",
    "        )\n",
    "\n",
    "    top_300_measures = pd.DataFrame(most_used_score)\n",
    "    most_used.to_csv(\"data/top_300_measures.csv\", index=False)"
   ]
  },
  {
   "cell_type": "code",
   "execution_count": 44,
   "metadata": {},
   "outputs": [
    {
     "data": {
      "text/plain": [
       "645"
      ]
     },
     "execution_count": 44,
     "metadata": {},
     "output_type": "execute_result"
    }
   ],
   "source": [
    "len(G.nodes)"
   ]
  },
  {
   "cell_type": "code",
   "execution_count": 50,
   "metadata": {},
   "outputs": [
    {
     "data": {
      "text/html": [
       "<div>\n",
       "<style scoped>\n",
       "    .dataframe tbody tr th:only-of-type {\n",
       "        vertical-align: middle;\n",
       "    }\n",
       "\n",
       "    .dataframe tbody tr th {\n",
       "        vertical-align: top;\n",
       "    }\n",
       "\n",
       "    .dataframe thead th {\n",
       "        text-align: right;\n",
       "    }\n",
       "</style>\n",
       "<table border=\"1\" class=\"dataframe\">\n",
       "  <thead>\n",
       "    <tr style=\"text-align: right;\">\n",
       "      <th></th>\n",
       "      <th>cid</th>\n",
       "      <th>drug_name</th>\n",
       "      <th>rank</th>\n",
       "      <th>degree</th>\n",
       "      <th>weighted_degree</th>\n",
       "      <th>averaged_weighted_degree</th>\n",
       "    </tr>\n",
       "  </thead>\n",
       "  <tbody>\n",
       "    <tr>\n",
       "      <th>0</th>\n",
       "      <td>CID000004091</td>\n",
       "      <td>Metformin</td>\n",
       "      <td>2</td>\n",
       "      <td>(41, 76.04658385093167)</td>\n",
       "      <td>(40, 20634.244997340862)</td>\n",
       "      <td>(190, 0.42133060393965904)</td>\n",
       "    </tr>\n",
       "    <tr>\n",
       "      <th>1</th>\n",
       "      <td>CID000002162</td>\n",
       "      <td>Amlodipine</td>\n",
       "      <td>5</td>\n",
       "      <td>(81, 55.754658385093165)</td>\n",
       "      <td>(73, 15244.516577953209)</td>\n",
       "      <td>(159, 0.42456738645221437)</td>\n",
       "    </tr>\n",
       "    <tr>\n",
       "      <th>2</th>\n",
       "      <td>CID000004171</td>\n",
       "      <td>Metoprolol</td>\n",
       "      <td>6</td>\n",
       "      <td>(16, 92.35093167701862)</td>\n",
       "      <td>(15, 25002.451203504716)</td>\n",
       "      <td>(202, 0.4203929650520348)</td>\n",
       "    </tr>\n",
       "    <tr>\n",
       "      <th>3</th>\n",
       "      <td>CID000002083</td>\n",
       "      <td>Albuterol</td>\n",
       "      <td>7</td>\n",
       "      <td>(6, 108.17701863354037)</td>\n",
       "      <td>(6, 28841.80992762025)</td>\n",
       "      <td>(250, 0.4140012334226201)</td>\n",
       "    </tr>\n",
       "    <tr>\n",
       "      <th>4</th>\n",
       "      <td>CID000003961</td>\n",
       "      <td>Losartan</td>\n",
       "      <td>8</td>\n",
       "      <td>(56, 67.1475155279503)</td>\n",
       "      <td>(57, 17884.952621380642)</td>\n",
       "      <td>(257, 0.41359185582361635)</td>\n",
       "    </tr>\n",
       "    <tr>\n",
       "      <th>...</th>\n",
       "      <td>...</td>\n",
       "      <td>...</td>\n",
       "      <td>...</td>\n",
       "      <td>...</td>\n",
       "      <td>...</td>\n",
       "      <td>...</td>\n",
       "    </tr>\n",
       "    <tr>\n",
       "      <th>100</th>\n",
       "      <td>CID000003385</td>\n",
       "      <td>Fluorouracil</td>\n",
       "      <td>270</td>\n",
       "      <td>(238, 20.062111801242235)</td>\n",
       "      <td>(235, 5480.533973272665)</td>\n",
       "      <td>(161, 0.4241899360118162)</td>\n",
       "    </tr>\n",
       "    <tr>\n",
       "      <th>101</th>\n",
       "      <td>CID000010631</td>\n",
       "      <td>Medroxyprogesterone</td>\n",
       "      <td>276</td>\n",
       "      <td>(126, 41.296583850931675)</td>\n",
       "      <td>(130, 10339.906544410607)</td>\n",
       "      <td>(491, 0.3887913722282612)</td>\n",
       "    </tr>\n",
       "    <tr>\n",
       "      <th>102</th>\n",
       "      <td>CID000002725</td>\n",
       "      <td>Chlorpheniramine</td>\n",
       "      <td>291</td>\n",
       "      <td>(558, 1.2593167701863353)</td>\n",
       "      <td>(562, 312.8056885316162)</td>\n",
       "      <td>(504, 0.38570368499582763)</td>\n",
       "    </tr>\n",
       "    <tr>\n",
       "      <th>103</th>\n",
       "      <td>CID000003516</td>\n",
       "      <td>Guaifenesin</td>\n",
       "      <td>295</td>\n",
       "      <td>(186, 28.71894409937888)</td>\n",
       "      <td>(195, 7297.636632122773)</td>\n",
       "      <td>(448, 0.39457348646243706)</td>\n",
       "    </tr>\n",
       "    <tr>\n",
       "      <th>104</th>\n",
       "      <td>CID000002266</td>\n",
       "      <td>Azelate</td>\n",
       "      <td>298</td>\n",
       "      <td>(633, 0.07919254658385093)</td>\n",
       "      <td>(635, 15.244390730091279)</td>\n",
       "      <td>(642, 0.2989096221586525)</td>\n",
       "    </tr>\n",
       "  </tbody>\n",
       "</table>\n",
       "<p>105 rows × 6 columns</p>\n",
       "</div>"
      ],
      "text/plain": [
       "              cid            drug_name  rank                      degree  \\\n",
       "0    CID000004091            Metformin     2     (41, 76.04658385093167)   \n",
       "1    CID000002162           Amlodipine     5    (81, 55.754658385093165)   \n",
       "2    CID000004171           Metoprolol     6     (16, 92.35093167701862)   \n",
       "3    CID000002083            Albuterol     7     (6, 108.17701863354037)   \n",
       "4    CID000003961             Losartan     8      (56, 67.1475155279503)   \n",
       "..            ...                  ...   ...                         ...   \n",
       "100  CID000003385         Fluorouracil   270   (238, 20.062111801242235)   \n",
       "101  CID000010631  Medroxyprogesterone   276   (126, 41.296583850931675)   \n",
       "102  CID000002725     Chlorpheniramine   291   (558, 1.2593167701863353)   \n",
       "103  CID000003516          Guaifenesin   295    (186, 28.71894409937888)   \n",
       "104  CID000002266              Azelate   298  (633, 0.07919254658385093)   \n",
       "\n",
       "               weighted_degree    averaged_weighted_degree  \n",
       "0     (40, 20634.244997340862)  (190, 0.42133060393965904)  \n",
       "1     (73, 15244.516577953209)  (159, 0.42456738645221437)  \n",
       "2     (15, 25002.451203504716)   (202, 0.4203929650520348)  \n",
       "3       (6, 28841.80992762025)   (250, 0.4140012334226201)  \n",
       "4     (57, 17884.952621380642)  (257, 0.41359185582361635)  \n",
       "..                         ...                         ...  \n",
       "100   (235, 5480.533973272665)   (161, 0.4241899360118162)  \n",
       "101  (130, 10339.906544410607)   (491, 0.3887913722282612)  \n",
       "102   (562, 312.8056885316162)  (504, 0.38570368499582763)  \n",
       "103   (195, 7297.636632122773)  (448, 0.39457348646243706)  \n",
       "104  (635, 15.244390730091279)   (642, 0.2989096221586525)  \n",
       "\n",
       "[105 rows x 6 columns]"
      ]
     },
     "execution_count": 50,
     "metadata": {},
     "output_type": "execute_result"
    }
   ],
   "source": [
    "top_300_measures"
   ]
  }
 ],
 "metadata": {
  "kernelspec": {
   "display_name": "Python 3",
   "language": "python",
   "name": "python3"
  },
  "language_info": {
   "codemirror_mode": {
    "name": "ipython",
    "version": 3
   },
   "file_extension": ".py",
   "mimetype": "text/x-python",
   "name": "python",
   "nbconvert_exporter": "python",
   "pygments_lexer": "ipython3",
   "version": "3.12.1"
  }
 },
 "nbformat": 4,
 "nbformat_minor": 2
}
