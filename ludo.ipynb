{
 "cells": [
  {
   "cell_type": "code",
   "execution_count": 3,
   "metadata": {},
   "outputs": [],
   "source": [
    "import networkx as nx\n",
    "import pandas as pd\n",
    "import requests as rqs\n",
    "import re"
   ]
  },
  {
   "cell_type": "code",
   "execution_count": 9,
   "metadata": {},
   "outputs": [
    {
     "data": {
      "text/html": [
       "<div>\n",
       "<style scoped>\n",
       "    .dataframe tbody tr th:only-of-type {\n",
       "        vertical-align: middle;\n",
       "    }\n",
       "\n",
       "    .dataframe tbody tr th {\n",
       "        vertical-align: top;\n",
       "    }\n",
       "\n",
       "    .dataframe thead th {\n",
       "        text-align: right;\n",
       "    }\n",
       "</style>\n",
       "<table border=\"1\" class=\"dataframe\">\n",
       "  <thead>\n",
       "    <tr style=\"text-align: right;\">\n",
       "      <th></th>\n",
       "      <th># STITCH 1</th>\n",
       "      <th>STITCH 2</th>\n",
       "      <th>Polypharmacy Side Effect</th>\n",
       "      <th>Side Effect Name</th>\n",
       "    </tr>\n",
       "  </thead>\n",
       "  <tbody>\n",
       "    <tr>\n",
       "      <th>0</th>\n",
       "      <td>CID000002173</td>\n",
       "      <td>CID000003345</td>\n",
       "      <td>C0151714</td>\n",
       "      <td>hypermagnesemia</td>\n",
       "    </tr>\n",
       "    <tr>\n",
       "      <th>1</th>\n",
       "      <td>CID000002173</td>\n",
       "      <td>CID000003345</td>\n",
       "      <td>C0035344</td>\n",
       "      <td>retinopathy of prematurity</td>\n",
       "    </tr>\n",
       "    <tr>\n",
       "      <th>2</th>\n",
       "      <td>CID000002173</td>\n",
       "      <td>CID000003345</td>\n",
       "      <td>C0004144</td>\n",
       "      <td>atelectasis</td>\n",
       "    </tr>\n",
       "    <tr>\n",
       "      <th>3</th>\n",
       "      <td>CID000002173</td>\n",
       "      <td>CID000003345</td>\n",
       "      <td>C0002063</td>\n",
       "      <td>alkalosis</td>\n",
       "    </tr>\n",
       "    <tr>\n",
       "      <th>4</th>\n",
       "      <td>CID000002173</td>\n",
       "      <td>CID000003345</td>\n",
       "      <td>C0004604</td>\n",
       "      <td>Back Ache</td>\n",
       "    </tr>\n",
       "  </tbody>\n",
       "</table>\n",
       "</div>"
      ],
      "text/plain": [
       "     # STITCH 1      STITCH 2 Polypharmacy Side Effect  \\\n",
       "0  CID000002173  CID000003345                 C0151714   \n",
       "1  CID000002173  CID000003345                 C0035344   \n",
       "2  CID000002173  CID000003345                 C0004144   \n",
       "3  CID000002173  CID000003345                 C0002063   \n",
       "4  CID000002173  CID000003345                 C0004604   \n",
       "\n",
       "             Side Effect Name  \n",
       "0             hypermagnesemia  \n",
       "1  retinopathy of prematurity  \n",
       "2                 atelectasis  \n",
       "3                   alkalosis  \n",
       "4                   Back Ache  "
      ]
     },
     "execution_count": 9,
     "metadata": {},
     "output_type": "execute_result"
    }
   ],
   "source": [
    "df = pd.read_csv(\"data/ChChSe-Decagon_polypharmacy.csv\")\n",
    "df.head()"
   ]
  },
  {
   "cell_type": "code",
   "execution_count": 10,
   "metadata": {},
   "outputs": [],
   "source": [
    "def what_we_poppin_boyz(cid):\n",
    "\n",
    "    pattern = r\"CID0+(\\d+)\"\n",
    "    norm_cid = re.search(pattern, cid).group(1)\n",
    "    url = f\"https://pubchem.ncbi.nlm.nih.gov/rest/pug/compound/cid/{norm_cid}/property/Title/TXT\"\n",
    "    response = rqs.get(url)\n",
    "\n",
    "    if response.status_code == 200:\n",
    "        return response.text.strip()  # Rimuove eventuali spazi o newline extra\n",
    "    else:\n",
    "        return \"Errore nella richiesta\""
   ]
  },
  {
   "cell_type": "code",
   "execution_count": 11,
   "metadata": {},
   "outputs": [],
   "source": [
    "G = nx.from_pandas_edgelist(\n",
    "    df,\n",
    "    source=\"# STITCH 1\",\n",
    "    target=\"STITCH 2\",\n",
    "    edge_attr=[\"Polypharmacy Side Effect\"],\n",
    "    create_using=nx.MultiGraph(),\n",
    ")"
   ]
  },
  {
   "cell_type": "code",
   "execution_count": 9,
   "metadata": {},
   "outputs": [
    {
     "name": "stdout",
     "output_type": "stream",
     "text": [
      "56\n"
     ]
    }
   ],
   "source": [
    "print(len(G[\"CID000002173\"][\"CID000003345\"]))"
   ]
  },
  {
   "cell_type": "code",
   "execution_count": 12,
   "metadata": {},
   "outputs": [],
   "source": [
    "degree_centrality = nx.degree_centrality(G)\n"
   ]
  },
  {
   "cell_type": "markdown",
   "metadata": {},
   "source": [
    "In a MultiGraph, degree centrality counts the total number of edges connected to a node, including all parallel edges.\n",
    "\n",
    "\n",
    "\n",
    "What It Measures: The number of drugs a given drug interacts with (i.e., has side effects when combined)."
   ]
  },
  {
   "cell_type": "code",
   "execution_count": 13,
   "metadata": {},
   "outputs": [],
   "source": [
    "top_5 = sorted(degree_centrality.items(), key=lambda x: x[1], reverse=True)[:5]"
   ]
  },
  {
   "cell_type": "code",
   "execution_count": 13,
   "metadata": {},
   "outputs": [
    {
     "data": {
      "text/plain": [
       "[('CID000004594', 123.19099378881987),\n",
       " ('CID000004900', 121.46739130434781),\n",
       " ('CID000003958', 109.8447204968944),\n",
       " ('CID000000853', 108.74223602484471),\n",
       " ('CID000005090', 108.71894409937887)]"
      ]
     },
     "execution_count": 13,
     "metadata": {},
     "output_type": "execute_result"
    }
   ],
   "source": [
    "top_5"
   ]
  },
  {
   "cell_type": "code",
   "execution_count": 14,
   "metadata": {},
   "outputs": [
    {
     "name": "stdout",
     "output_type": "stream",
     "text": [
      "Omeprazole 123.19099378881987\n",
      "1,4-Pregnadiene-17alpha,21-diol-3,11,20-trione 121.46739130434781\n",
      "Lorazepam 109.8447204968944\n",
      "DL-Thyroxine 108.74223602484471\n",
      "Rofecoxib 108.71894409937887\n"
     ]
    }
   ],
   "source": [
    "for cid, score in top_5:\n",
    "   print(what_we_poppin_boyz(cid), score)"
   ]
  },
  {
   "cell_type": "markdown",
   "metadata": {},
   "source": [
    "Betweenness centrality measures how often a node appears on the shortest paths between other nodes.\n",
    "\n",
    "•\tA high betweenness centrality indicates a drug acts as a “bridge” between different groups of interacting drugs.\n",
    "\n",
    "•\tCritical for: Identifying drugs that can spread side-effect risks across otherwise disconnected groups. These could be key targets for safety interventions."
   ]
  },
  {
   "cell_type": "code",
   "execution_count": 15,
   "metadata": {},
   "outputs": [],
   "source": [
    "betweenness_centrality = nx.betweenness_centrality(G)\n",
    "top_5_between = sorted(\n",
    "    betweenness_centrality.items(), key=lambda x: x[1], reverse=True\n",
    ")[:5]"
   ]
  },
  {
   "cell_type": "code",
   "execution_count": 16,
   "metadata": {},
   "outputs": [
    {
     "name": "stdout",
     "output_type": "stream",
     "text": [
      "DL-Thyroxine 0.022849657819124902\n",
      "Omeprazole 0.022660226525834916\n",
      "Acetaminophen 0.01894759085405763\n",
      "Ranitidine 0.012737688029971331\n",
      "Citalopram 0.012228708176325582\n"
     ]
    }
   ],
   "source": [
    "for cid, score in top_5_between:\n",
    "    print(what_we_poppin_boyz(cid), score)"
   ]
  },
  {
   "cell_type": "code",
   "execution_count": 17,
   "metadata": {},
   "outputs": [],
   "source": [
    "edge_multiplicity = {(u, v): len(G[u][v]) for u, v in G.edges()}"
   ]
  },
  {
   "cell_type": "code",
   "execution_count": 19,
   "metadata": {},
   "outputs": [
    {
     "data": {
      "text/plain": [
       "[(('CID000003883', 'CID000004594'), 540),\n",
       " (('CID000003883', 'CID000002662'), 524),\n",
       " (('CID000005090', 'CID000004594'), 494),\n",
       " (('CID000005090', 'CID000005732'), 478),\n",
       " (('CID000003446', 'CID000002662'), 476)]"
      ]
     },
     "execution_count": 19,
     "metadata": {},
     "output_type": "execute_result"
    }
   ],
   "source": [
    "top_5_multiplicity = sorted(\n",
    "    edge_multiplicity.items(), key=lambda x: x[1], reverse=True\n",
    ")[:5]\n",
    "top_5_multiplicity"
   ]
  },
  {
   "cell_type": "code",
   "execution_count": 21,
   "metadata": {},
   "outputs": [
    {
     "name": "stdout",
     "output_type": "stream",
     "text": [
      "Lansoprazole Omeprazole 540\n",
      "Lansoprazole Celecoxib 524\n",
      "Rofecoxib Omeprazole 494\n",
      "Rofecoxib Zolpidem 478\n",
      "Gabapentin Celecoxib 476\n"
     ]
    }
   ],
   "source": [
    "for nodes, score in top_5_multiplicity:\n",
    "    cid_1, cid_2 = nodes\n",
    "    print(what_we_poppin_boyz(cid_1), what_we_poppin_boyz(cid_2), score)"
   ]
  },
  {
   "cell_type": "code",
   "execution_count": 23,
   "metadata": {},
   "outputs": [],
   "source": [
    "edge_count_per_node = dict(G.degree())\n",
    "\n",
    "top_5_count = sorted(\n",
    "    edge_count_per_node.items(), key=lambda x: x[1], reverse=True\n",
    ")[:5]"
   ]
  },
  {
   "cell_type": "code",
   "execution_count": 26,
   "metadata": {},
   "outputs": [
    {
     "name": "stdout",
     "output_type": "stream",
     "text": [
      "Omeprazole 79335\n",
      "1,4-Pregnadiene-17alpha,21-diol-3,11,20-trione 78225\n",
      "Lorazepam 70740\n",
      "DL-Thyroxine 70030\n",
      "Rofecoxib 70015\n"
     ]
    }
   ],
   "source": [
    "for cid, score in top_5_count:\n",
    "    print(what_we_poppin_boyz(cid), score)"
   ]
  },
  {
   "cell_type": "code",
   "execution_count": 1,
   "metadata": {},
   "outputs": [],
   "source": [
    "def name_to_cid(drug_name):\n",
    "    url = (\n",
    "        f\"https://pubchem.ncbi.nlm.nih.gov/rest/pug/compound/name/{drug_name}/cids/TXT\"\n",
    "    )\n",
    "    response = rqs.get(url)\n",
    "\n",
    "    if response.status_code == 200:\n",
    "        return response.text.strip()\n",
    "    else:\n",
    "        return f\"Skibidi status - {response.status_code}: {drug_name} got no rizz fr fr\""
   ]
  },
  {
   "cell_type": "code",
   "execution_count": 12,
   "metadata": {},
   "outputs": [
    {
     "data": {
      "text/plain": [
       "'CID000005819'"
      ]
     },
     "execution_count": 12,
     "metadata": {},
     "output_type": "execute_result"
    }
   ],
   "source": [
    "n_zeros = 12 - len(name_to_cid(\"Levothyroxine\")) - 3\n",
    "\n",
    "f\"CID{''.join(['0' for n in range(n_zeros)])}{name_to_cid(\"Levothyroxine\")}\""
   ]
  },
  {
   "cell_type": "code",
   "execution_count": 5,
   "metadata": {},
   "outputs": [
    {
     "data": {
      "text/plain": [
       "12"
      ]
     },
     "execution_count": 5,
     "metadata": {},
     "output_type": "execute_result"
    }
   ],
   "source": [
    "len(\"CID000003883\")"
   ]
  }
 ],
 "metadata": {
  "kernelspec": {
   "display_name": "Python 3",
   "language": "python",
   "name": "python3"
  },
  "language_info": {
   "codemirror_mode": {
    "name": "ipython",
    "version": 3
   },
   "file_extension": ".py",
   "mimetype": "text/x-python",
   "name": "python",
   "nbconvert_exporter": "python",
   "pygments_lexer": "ipython3",
   "version": "3.12.1"
  }
 },
 "nbformat": 4,
 "nbformat_minor": 2
}
