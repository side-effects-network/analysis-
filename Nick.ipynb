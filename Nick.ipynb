{
 "cells": [
  {
   "cell_type": "code",
   "execution_count": 2,
   "metadata": {},
   "outputs": [],
   "source": [
    "import requests as rqs\n",
    "import pandas as pd\n",
    "import re"
   ]
  },
  {
   "cell_type": "code",
   "execution_count": null,
   "metadata": {},
   "outputs": [],
   "source": [
    "#Ignora questa merda\n",
    "\n",
    "\"\"\"{'PC_Compounds': [{'id': {'id': {'cid': 2173}}, \n",
    "'atoms': {'aid': [1, 2, 3, 4, 5, 6, 7, 8, 9, 10, 11, 12, 13, 14, 15, 16, 17, 18, 19, 20, 21, 22, 23, 24, 25, 26, 27, 28, 29, 30, 31, 32, 33, 34, 35, 36, 37, 38, 39, 40, 41, 42], \n",
    "        'element': [16, 8, 8, 8, 8, 7, 7, 7, 6, 6, 6, 6, 6, 6, 6, 6, 6, 6, 6, 6, 6, 6, 6, 6, 1, 1, 1, 1, 1, 1, 1, 1, 1, 1, 1, 1, 1, 1, 1, 1, 1, 1], \n",
    "        'charge': [{'aid': 3, 'value': -1}]}, \n",
    "'bonds': {'aid1': [1, 1, 2, 3, 4, 5, 6, 6, 6, 7, 7, 7, 8, 8, 8, 9, 9, 10, 10, 10, 11, 11, 12, 12, 14, 14, 14, 15, 15, 15, 17, 18, 18, 19, 19, 20, 20, 21, 21, 22, 22, 23, 23, 24], \n",
    "        'aid2': [9, 10, 13, 16, 16, 17, 9, 11, 13, 12, 17, 34, 18, 36, 37, 12, 25, 11, 14, 15, 16, 26, 13, 27, 28, 29, 30, 31, 32, 33, 18, 19, 35, 20, 21, 22, 38, 23, 39, 24, 40, 24, 41, 42], \n",
    "        'order': [1, 1, 2, 1, 2, 2, 1, 1, 1, 1, 1, 1, 1, 1, 1, 1, 1, 1, 1, 1, 1, 1, 1, 1, 1, 1, 1, 1, 1, 1, 1, 1, 1, 2, 1, 1, 1, 2, 1, 2, 1, 1, 1, 1]}, \n",
    "'stereo': [{'tetrahedral': {'center': 9, 'above': 1, 'top': 6, 'bottom': 12, 'below': 25, 'parity': 3, 'type': 1}}, \n",
    "           {'tetrahedral': {'center': 11, 'above': 6, 'top': 10, 'bottom': 16, 'below': 26, 'parity': 3, 'type': 1}},\n",
    "            {'tetrahedral': {'center': 12, 'above': 7, 'top': 9, 'bottom': 13, 'below': 27, 'parity': 3, 'type': 1}},\n",
    "            {'tetrahedral': {'center': 18, 'above': 8, 'top': 17, 'bottom': 19, 'below': 35, 'parity': 3, 'type': 1}}], \n",
    "'coords': [{'type': [1, 5, 255], 'aid': [1, 2, 3, 4, 5, 6, 7, 8, 9, 10, 11, 12, 13, 14, 15, 16, 17, 18, 19, 20, 21, 22, 23, 24, 25, 26, 27, 28, 29, 30, 31, 32, 33, 34, 35, 36, 37, 38, 39, 40, 41, 42], \n",
    "            'conformers': [{'x': [9.2365, 6.5715, 8.8764, 10.5236, 5.3442, 8.2854, 6.5715, 5.1602, 8.2854, 9.8242, 9.2365, 7.2771, 7.2771, 10.6333, 10.6333, 9.5455, 5.605, 4.8994, 3.9329, 3.6721, 3.2273, 2.7056, 2.2608, 2, 8.1897, 8.7981, 6.7041, 10.9977, 11.1349, 10.2688, 10.2688, 11.1349, 10.9977, 6.7332, 4.4619, 4.7227, 5.7594, 4.1096, 3.389, 2.544, 1.8233, 1.4008], \n",
    "                            'y': [0.5261, -1.4957, -2.7862, -2.2509, -0.2925, -0.783, 0.9297, 2.3469, 0.217, -0.283, -1.092, 0.2212, -0.7871, 0.3048, -0.8707, -2.043, 0.6729, 1.3815, 1.1246, 0.1592, 1.8332, -0.0976, 1.5764, 0.611, 0.8296, -1.5304, -0.0155, -0.1968, 0.6693, 0.8064, -1.3723, -1.2352, -0.3691, 1.5283, 1.8208, 2.7862, 2.5061, -0.2801, 2.4317, -0.6961, 2.0157, 0.4517], \n",
    "                            'style': {'annotation': [3, 3, 3, 3, 8, 8, 8, 8, 8, 8], 'aid1': [9, 11, 12, 18, 19, 19, 20, 21, 22, 23], 'aid2': [1, 16, 7, 8, 20, 21, 22, 23, 24, 24]}}]}], \n",
    "'charge': -1, \n",
    "'props': [{'urn': {'label': 'Compound', 'name': 'Canonicalized', 'datatype': 5, 'release': '2021.05.07'}, \n",
    "                'value': {'ival': 1}}, \n",
    "          {'urn': {'label': 'Compound Complexity', 'datatype': 7, 'implementation': 'E_COMPLEXITY', 'version': '3.4.8.18', 'software': 'Cactvs', 'source': 'Xemistry GmbH', 'release': '2021.05.07'}, \n",
    "                'value': {'fval': 556}}, \n",
    "          {'urn': {'label': 'Count', 'name': 'Hydrogen Bond Acceptor', 'datatype': 5, 'implementation': 'E_NHACCEPTORS', 'version': '3.4.8.18', 'software': 'Cactvs', 'source': 'Xemistry GmbH', 'release': '2021.05.07'}, \n",
    "                'value': {'ival': 6}}, \n",
    "          {'urn': {'label': 'Count', 'name': 'Hydrogen Bond Donor', 'datatype': 5, 'implementation': 'E_NHDONORS', 'version': '3.4.8.18', 'software': 'Cactvs', 'source': 'Xemistry GmbH', 'release': '2021.05.07'}, \n",
    "                'value': {'ival': 2}}, \n",
    "          {'urn': {'label': 'Count', 'name': 'Rotatable Bond', 'datatype': 5, 'implementation': 'E_NROTBONDS', 'version': '3.4.8.18', 'software': 'Cactvs', 'source': 'Xemistry GmbH', 'release': '2021.05.07'}, \n",
    "                'value': {'ival': 3}}, \n",
    "          {'urn': {'label': 'Fingerprint', 'name': 'SubStructure Keys', 'datatype': 16, 'parameters': 'extended 2', 'implementation': 'E_SCREEN', 'version': '3.4.8.18', 'software': 'Cactvs', 'source': 'Xemistry GmbH', 'release': '2021.05.07'}, \n",
    "                'value': {'binary': '00000371E07B3800400000000000000000000000580160000000300000000580000000010000001E04100000000C28C5D804B20883C00008880221D218008200006000100888818804880A603AA09531942000649600B888071888808E00000000000000000000000000000000000000000000'}}, \n",
    "          {'urn': {'label': 'IUPAC Name', 'name': 'Allowed', 'datatype': 1, 'version': '2.7.0', 'software': 'Lexichem TK', 'source': 'OpenEye Scientific Software', 'release': '2021.05.07'}, \n",
    "                'value': {'sval': '6-[(2-amino-2-phenyl-acetyl)amino]-3,3-dimethyl-7-oxo-4-thia-1-azabicyclo[3.2.0]heptane-2-carboxylate'}}, \n",
    "          {'urn': {'label': 'IUPAC Name', 'name': 'CAS-like Style', 'datatype': 1, 'version': '2.7.0', 'software': 'Lexichem TK', 'source': 'OpenEye Scientific Software', 'release': '2021.05.07'}, \n",
    "                'value': {'sval': '6-[(2-amino-1-oxo-2-phenylethyl)amino]-3,3-dimethyl-7-oxo-4-thia-1-azabicyclo[3.2.0]heptane-2-carboxylate'}}, \n",
    "          {'urn': {'label': 'IUPAC Name', 'name': 'Markup', 'datatype': 1, 'version': '2.7.0', 'software': 'Lexichem TK', 'source': 'OpenEye Scientific Software', 'release': '2021.05.07'}, \n",
    "                'value': {'sval': '6-[(2-amino-2-phenylacetyl)amino]-3,3-dimethyl-7-oxo-4-thia-1-azabicyclo[3.2.0]heptane-2-carboxylate'}}, \n",
    "          {'urn': {'label': 'IUPAC Name', 'name': 'Preferred', 'datatype': 1, 'version': '2.7.0', 'software': 'Lexichem TK', 'source': 'OpenEye Scientific Software', 'release': '2021.05.07'}, \n",
    "                'value': {'sval': '6-[(2-amino-2-phenylacetyl)amino]-3,3-dimethyl-7-oxo-4-thia-1-azabicyclo[3.2.0]heptane-2-carboxylate'}}, \n",
    "          {'urn': {'label': 'IUPAC Name', 'name': 'Systematic', 'datatype': 1, 'version': '2.7.0', 'software': 'Lexichem TK', 'source': 'OpenEye Scientific Software', 'release': '2021.05.07'}, \n",
    "                'value': {'sval': '6-[(2-azanyl-2-phenyl-ethanoyl)amino]-3,3-dimethyl-7-oxidanylidene-4-thia-1-azabicyclo[3.2.0]heptane-2-carboxylate'}}, \n",
    "          {'urn': {'label': 'IUPAC Name', 'name': 'Traditional', 'datatype': 1, 'version': '2.7.0', 'software': 'Lexichem TK', 'source': 'OpenEye Scientific Software', 'release': '2021.05.07'}, \n",
    "                'value': {'sval': '6-[(2-amino-2-phenyl-acetyl)amino]-7-keto-3,3-dimethyl-4-thia-1-azabicyclo[3.2.0]heptane-2-carboxylate'}}, \n",
    "          {'urn': {'label': 'InChI', 'name': 'Standard', 'datatype': 1, 'version': '1.0.6', 'software': 'InChI', 'source': 'iupac.org', 'release': '2021.05.07'}, \n",
    "                'value': {'sval': 'InChI=1S/C16H19N3O4S/c1-16(2)11(15(22)23)19-13(21)10(14(19)24-16)18-12(20)9(17)8-6-4-3-5-7-8/h3-7,9-11,14H,17H2,1-2H3,(H,18,20)(H,22,23)/p-1'}}, \n",
    "          {'urn': {'label': 'InChIKey', 'name': 'Standard', 'datatype': 1, 'version': '1.0.6', 'software': 'InChI', 'source': 'iupac.org', 'release': '2021.05.07'}, \n",
    "                'value': {'sval': 'AVKUERGKIZMTKX-UHFFFAOYSA-M'}}, \n",
    "          {'urn': {'label': 'Log P', 'name': 'XLogP3', 'datatype': 7, 'version': '3.0', 'source': 'sioc-ccbg.ac.cn', 'release': '2021.05.07'}, \n",
    "                'value': {'fval': -0.5}}, \n",
    "          {'urn': {'label': 'Mass', 'name': 'Exact', 'datatype': 1, 'version': '2.1', 'software': 'PubChem', 'source': 'ncbi.nlm.nih.gov', 'release': '2021.05.07'}, \n",
    "                'value': {'sval': '348.10180224'}}, \n",
    "          {'urn': {'label': 'Molecular Formula', 'datatype': 1, 'version': '2.1', 'software': 'PubChem', 'source': 'ncbi.nlm.nih.gov', 'release': '2021.05.07'}, \n",
    "                'value': {'sval': 'C16H18N3O4S-'}}, \n",
    "          {'urn': {'label': 'Molecular Weight', 'datatype': 1, 'version': '2.1', 'software': 'PubChem', 'source': 'ncbi.nlm.nih.gov', 'release': '2021.05.07'}, \n",
    "                'value': {'sval': '348.4'}}, \n",
    "          {'urn': {'label': 'SMILES', 'name': 'Absolute', 'datatype': 1, 'version': '2.3.0', 'software': 'OEChem', 'source': 'OpenEye Scientific Software', 'release': '2024.12.12'}, \n",
    "                'value': {'sval': 'CC1(C(N2C(S1)C(C2=O)NC(=O)C(C3=CC=CC=C3)N)C(=O)[O-])C'}}, \n",
    "          {'urn': {'label': 'SMILES', 'name': 'Canonical', 'datatype': 1, 'version': '2.3.0', 'software': 'OEChem', 'source': 'OpenEye Scientific Software', 'release': '2021.05.07'}, \n",
    "                'value': {'sval': 'CC1(C(N2C(S1)C(C2=O)NC(=O)C(C3=CC=CC=C3)N)C(=O)[O-])C'}}, \n",
    "          {'urn': {'label': 'SMILES', 'name': 'Isomeric', 'datatype': 1, 'version': '2.3.0', 'software': 'OEChem', 'source': 'OpenEye Scientific Software', 'release': '2021.05.07'}, \n",
    "                'value': {'sval': 'CC1(C(N2C(S1)C(C2=O)NC(=O)C(C3=CC=CC=C3)N)C(=O)[O-])C'}}, \n",
    "          {'urn': {'label': 'Topological', 'name': 'Polar Surface Area', 'datatype': 7, 'implementation': 'E_TPSA', 'version': '3.4.8.18', 'software': 'Cactvs', 'source': 'Xemistry GmbH', 'release': '2021.05.07'}, \n",
    "                'value': {'fval': 141}}, \n",
    "          {'urn': {'label': 'Weight', 'name': 'MonoIsotopic', 'datatype': 1, 'version': '2.1', 'software': 'PubChem', 'source': 'ncbi.nlm.nih.gov', 'release': '2021.05.07'}, \n",
    "                'value': {'sval': '348.10180224'}}], \n",
    "'count': {'heavy_atom': 24, 'atom_chiral': 4, 'atom_chiral_def': 0, 'atom_chiral_undef': 4, 'bond_chiral': 0, 'bond_chiral_def': 0, 'bond_chiral_undef': 0, 'isotope_atom': 0, 'covalent_unit': 1, 'tautomers': -1}}]}\"\"\"\n"
   ]
  },
  {
   "cell_type": "code",
   "execution_count": 2,
   "metadata": {},
   "outputs": [],
   "source": [
    "def what_we_poppin_boyz(cid):\n",
    "    pattern = r\"CID0+(\\d+)\"\n",
    "    norm_cid = re.search(pattern, cid).group(1)\n",
    "\n",
    "    url = f\"https://pubchem.ncbi.nlm.nih.gov/rest/pug/compound/cid/{norm_cid}/property/Title/TXT\"\n",
    "    response = rqs.get(url)\n",
    "\n",
    "    if response.status_code == 200:\n",
    "        return response.text.strip()\n",
    "    else:\n",
    "        return \"i'm not popping this shit bruh\""
   ]
  },
  {
   "cell_type": "code",
   "execution_count": 8,
   "metadata": {},
   "outputs": [
    {
     "name": "stdout",
     "output_type": "stream",
     "text": [
      "6-{[Amino(phenyl)acetyl]amino}-3,3-dimethyl-7-oxo-4-thia-1-azabicyclo[3.2.0]heptane-2-carboxylate\n"
     ]
    }
   ],
   "source": [
    "print(what_we_poppin_boyz(\"CID00002173\"))"
   ]
  },
  {
   "cell_type": "code",
   "execution_count": 14,
   "metadata": {},
   "outputs": [],
   "source": [
    "def i_know_what_im_poppin(drug_name):\n",
    "    url = f\"https://pubchem.ncbi.nlm.nih.gov/rest/pug/compound/name/{drug_name}/cids/TXT\"\n",
    "    \n",
    "    response = rqs.get(url)\n",
    "    \n",
    "    if response.status_code == 200:\n",
    "        cid = response.text.strip()\n",
    "        n_zeros = 12 - len(cid) - 3\n",
    "        return f\"CID{''.join(['0' for n in range(n_zeros)])}{cid}\"\n",
    "    else:\n",
    "        return f\"Skibidi status - {response.status_code}: {drug_name} got no rizz fr fr\""
   ]
  },
  {
   "cell_type": "code",
   "execution_count": 34,
   "metadata": {},
   "outputs": [
    {
     "name": "stdout",
     "output_type": "stream",
     "text": [
      "CID000002244\n"
     ]
    }
   ],
   "source": [
    "print(i_know_what_im_poppin(\"Aspirin\"))"
   ]
  },
  {
   "cell_type": "code",
   "execution_count": 32,
   "metadata": {},
   "outputs": [
    {
     "name": "stdout",
     "output_type": "stream",
     "text": [
      "Aspirin\n"
     ]
    }
   ],
   "source": [
    "print(what_we_poppin_boyz(i_know_what_im_poppin(\"Aspirin\")))"
   ]
  },
  {
   "cell_type": "code",
   "execution_count": 3,
   "metadata": {},
   "outputs": [
    {
     "data": {
      "text/html": [
       "<div>\n",
       "<style scoped>\n",
       "    .dataframe tbody tr th:only-of-type {\n",
       "        vertical-align: middle;\n",
       "    }\n",
       "\n",
       "    .dataframe tbody tr th {\n",
       "        vertical-align: top;\n",
       "    }\n",
       "\n",
       "    .dataframe thead th {\n",
       "        text-align: right;\n",
       "    }\n",
       "</style>\n",
       "<table border=\"1\" class=\"dataframe\">\n",
       "  <thead>\n",
       "    <tr style=\"text-align: right;\">\n",
       "      <th></th>\n",
       "      <th># STITCH 1</th>\n",
       "      <th>STITCH 2</th>\n",
       "      <th>Polypharmacy Side Effect</th>\n",
       "      <th>Side Effect Name</th>\n",
       "    </tr>\n",
       "  </thead>\n",
       "  <tbody>\n",
       "    <tr>\n",
       "      <th>0</th>\n",
       "      <td>CID000002173</td>\n",
       "      <td>CID000003345</td>\n",
       "      <td>C0151714</td>\n",
       "      <td>hypermagnesemia</td>\n",
       "    </tr>\n",
       "    <tr>\n",
       "      <th>1</th>\n",
       "      <td>CID000002173</td>\n",
       "      <td>CID000003345</td>\n",
       "      <td>C0035344</td>\n",
       "      <td>retinopathy of prematurity</td>\n",
       "    </tr>\n",
       "    <tr>\n",
       "      <th>2</th>\n",
       "      <td>CID000002173</td>\n",
       "      <td>CID000003345</td>\n",
       "      <td>C0004144</td>\n",
       "      <td>atelectasis</td>\n",
       "    </tr>\n",
       "    <tr>\n",
       "      <th>3</th>\n",
       "      <td>CID000002173</td>\n",
       "      <td>CID000003345</td>\n",
       "      <td>C0002063</td>\n",
       "      <td>alkalosis</td>\n",
       "    </tr>\n",
       "    <tr>\n",
       "      <th>4</th>\n",
       "      <td>CID000002173</td>\n",
       "      <td>CID000003345</td>\n",
       "      <td>C0004604</td>\n",
       "      <td>Back Ache</td>\n",
       "    </tr>\n",
       "  </tbody>\n",
       "</table>\n",
       "</div>"
      ],
      "text/plain": [
       "     # STITCH 1      STITCH 2 Polypharmacy Side Effect  \\\n",
       "0  CID000002173  CID000003345                 C0151714   \n",
       "1  CID000002173  CID000003345                 C0035344   \n",
       "2  CID000002173  CID000003345                 C0004144   \n",
       "3  CID000002173  CID000003345                 C0002063   \n",
       "4  CID000002173  CID000003345                 C0004604   \n",
       "\n",
       "             Side Effect Name  \n",
       "0             hypermagnesemia  \n",
       "1  retinopathy of prematurity  \n",
       "2                 atelectasis  \n",
       "3                   alkalosis  \n",
       "4                   Back Ache  "
      ]
     },
     "execution_count": 3,
     "metadata": {},
     "output_type": "execute_result"
    }
   ],
   "source": [
    "drugs_n_shit = pd.read_csv(\"./ChChse-Decagon_polypharmacy.csv\")\n",
    "drugs_n_shit.head(5)"
   ]
  },
  {
   "cell_type": "code",
   "execution_count": 4,
   "metadata": {},
   "outputs": [
    {
     "data": {
      "text/html": [
       "<div>\n",
       "<style scoped>\n",
       "    .dataframe tbody tr th:only-of-type {\n",
       "        vertical-align: middle;\n",
       "    }\n",
       "\n",
       "    .dataframe tbody tr th {\n",
       "        vertical-align: top;\n",
       "    }\n",
       "\n",
       "    .dataframe thead th {\n",
       "        text-align: right;\n",
       "    }\n",
       "</style>\n",
       "<table border=\"1\" class=\"dataframe\">\n",
       "  <thead>\n",
       "    <tr style=\"text-align: right;\">\n",
       "      <th></th>\n",
       "      <th>Rank</th>\n",
       "      <th>Drug Name</th>\n",
       "      <th>Total Prescriptions (2022)</th>\n",
       "      <th>Total Patients (2022)</th>\n",
       "      <th>Annual Change</th>\n",
       "    </tr>\n",
       "  </thead>\n",
       "  <tbody>\n",
       "    <tr>\n",
       "      <th>0</th>\n",
       "      <td>1</td>\n",
       "      <td>Atorvastatin</td>\n",
       "      <td>109,582,746</td>\n",
       "      <td>27,935,702</td>\n",
       "      <td>0</td>\n",
       "    </tr>\n",
       "    <tr>\n",
       "      <th>1</th>\n",
       "      <td>2</td>\n",
       "      <td>Metformin</td>\n",
       "      <td>86,747,907</td>\n",
       "      <td>19,536,027</td>\n",
       "      <td>0</td>\n",
       "    </tr>\n",
       "    <tr>\n",
       "      <th>2</th>\n",
       "      <td>3</td>\n",
       "      <td>Lisinopril</td>\n",
       "      <td>82,513,967</td>\n",
       "      <td>20,314,304</td>\n",
       "      <td>1</td>\n",
       "    </tr>\n",
       "    <tr>\n",
       "      <th>3</th>\n",
       "      <td>4</td>\n",
       "      <td>Levothyroxine</td>\n",
       "      <td>82,431,914</td>\n",
       "      <td>18,130,331</td>\n",
       "      <td>1</td>\n",
       "    </tr>\n",
       "    <tr>\n",
       "      <th>4</th>\n",
       "      <td>5</td>\n",
       "      <td>Amlodipine</td>\n",
       "      <td>70,766,211</td>\n",
       "      <td>17,789,649</td>\n",
       "      <td>0</td>\n",
       "    </tr>\n",
       "  </tbody>\n",
       "</table>\n",
       "</div>"
      ],
      "text/plain": [
       "   Rank      Drug Name Total Prescriptions (2022) Total Patients (2022)  \\\n",
       "0     1   Atorvastatin                109,582,746            27,935,702   \n",
       "1     2      Metformin                 86,747,907            19,536,027   \n",
       "2     3     Lisinopril                 82,513,967            20,314,304   \n",
       "3     4  Levothyroxine                 82,431,914            18,130,331   \n",
       "4     5     Amlodipine                 70,766,211            17,789,649   \n",
       "\n",
       "   Annual Change  \n",
       "0              0  \n",
       "1              0  \n",
       "2              1  \n",
       "3              1  \n",
       "4              0  "
      ]
     },
     "execution_count": 4,
     "metadata": {},
     "output_type": "execute_result"
    }
   ],
   "source": [
    "rank_drugs = pd.read_csv(\"./top_300_drugs.csv\")\n",
    "rank_drugs.head(5)"
   ]
  },
  {
   "cell_type": "code",
   "execution_count": 10,
   "metadata": {},
   "outputs": [
    {
     "name": "stdout",
     "output_type": "stream",
     "text": [
      "['CID000004894', 'CID000060815', 'CID000003780', 'CID000004205', 'CID000002477', 'CID000002673', 'CID000005297', 'CID000443871', 'CID000003148', 'CID000003016', 'CID000004499', 'CID000004158', 'CID000060164', 'CID000000598', 'CID000005039', 'CID000154059', 'CID000003821', 'CID000005584', 'CID000005372', 'CID000002973', 'CID000002232', 'CID000005734', 'CID000003488', 'CID000002732', 'CID000148211', 'CID000004539', 'CID000003403', 'CID000006691', 'CID000005505', 'CID000005035', 'CID000003440', 'CID000005426', 'CID000002141', 'CID000003750', 'CID000002708', 'CID005282226', 'CID000213039', 'CID000003675', 'CID000003249', 'CID000002249', 'CID000004513', 'CID000004595', 'CID000001690', 'CID000027686', 'CID000002676', 'CID000003261', 'CID000002349', 'CID000004543', 'CID000005376', 'CID000005002', 'CID000005029', 'CID000003642', 'CID000005454', 'CID000104741', 'CID000004449', 'CID000003957', 'CID000005195', 'CID000000853', 'CID000003958', 'CID000002662', 'CID000005726', 'CID000004946', 'CID000009052', 'CID000005076', 'CID000000453', 'CID000001972', 'CID000003117', 'CID000125889', 'CID000003467', 'CID000003463', 'CID000041781', 'CID000003962', 'CID000002153', 'CID000002726', 'CID000027991', 'CID000003878', 'CID000003114', 'CID000004425', 'CID000004236', 'CID000657298', 'CID000000271', 'CID000004585', 'CID000005735', 'CID000124087', 'CID004479097', 'CID000004999', 'CID000071158', 'CID000003384', 'CID000003355', 'CID000003961', 'CID000004723', 'CID000005090', 'CID000002733', 'CID000002585', 'CID000047725', 'CID000060787', 'CID000002171', 'CID000004034', 'CID000062924', 'CID000119182', 'CID005281104', 'CID000002617', 'CID000002160', 'CID000150310', 'CID000002713', 'CID000125017', 'CID000003324', 'CID000004845', 'CID000004736', 'CID000003310', 'CID000003373', 'CID000003914', 'CID000036339', 'CID000004819', 'CID000005544', 'CID000004011', 'CID000004440', 'CID000153941', 'CID000003381', 'CID000000159', 'CID000004828', 'CID000005578', 'CID000002170', 'CID000004675', 'CID000003393', 'CID000004889', 'CID000002118', 'CID000005514', 'CID000005203', 'CID000110635', 'CID000004112', 'CID000002800', 'CID000003291', 'CID000005572', 'CID000004264', 'CID000122316', 'CID000002522', 'CID000002756', 'CID000003657', 'CID000004594', 'CID000003637', 'CID000093860', 'CID000002370', 'CID000005530', 'CID000003767', 'CID000002369', 'CID000004173', 'CID000060795', 'CID000508230', 'CID000004607', 'CID000005719', 'CID000004834', 'CID000005402', 'CID003002190', 'CID000003661', 'CID000060865', 'CID000004509', 'CID000002749', 'CID000004046', 'CID005282044', 'CID000003706', 'CID000001971', 'CID000048175', 'CID000002725', 'CID000002551', 'CID000004911', 'CID000072467', 'CID000002995', 'CID000003040', 'CID000003203', 'CID000003108', 'CID000005206', 'CID000002250', 'CID000005466', 'CID000040976', 'CID000003350', 'CID000002764', 'CID000000444', 'CID000005496', 'CID004183806', 'CID000002142', 'CID000005746', 'CID000005732', 'CID000003562', 'CID000060696', 'CID000003345', 'CID000004178', 'CID000003404', 'CID000003454', 'CID000005482', 'CID000005721', 'CID000002187', 'CID005311082', 'CID000004873', 'CID000004812', 'CID000003746', 'CID000003928', 'CID000197712', 'CID000003042', 'CID000005267', 'CID000002719', 'CID000004913', 'CID000005650', 'CID000002806', 'CID000002478', 'CID000004547', 'CID001349907', 'CID000002802', 'CID000004740', 'CID000005070', 'CID000082146', 'CID000005005', 'CID000119607', 'CID000039860', 'CID000003825', 'CID005481350', 'CID000087177', 'CID000005487', 'CID000004730', 'CID000004666', 'CID000003032', 'CID000036811', 'CID000003333', 'CID000005078', 'CID000000596', 'CID000005453', 'CID000003008', 'CID000005381', 'CID000002609', 'CID000004885', 'CID005311297', 'CID000003152', 'CID000001117', 'CID000005064', 'CID000176168', 'CID000004170', 'CID000057537', 'CID000005515', 'CID000004616', 'CID000054841', 'CID005329102', 'CID000003883', 'CID000041317', 'CID000004064', 'CID000003066', 'CID000001065', 'CID000000298', 'CID000003348', 'CID000000564', 'CID000041774', 'CID006398970', 'CID000005486', 'CID000083786', 'CID000004253', 'CID000148192', 'CID000003394', 'CID000051263', 'CID000002637', 'CID000002519', 'CID000005593', 'CID000038904', 'CID000005038', 'CID000004052', 'CID000002215', 'CID000056959', 'CID000005234', 'CID005311039', 'CID000000214', 'CID000003730', 'CID000003308', 'CID000444013', 'CID000123620', 'CID000042113', 'CID000005647', 'CID000005155', 'CID000009433', 'CID000003827', 'CID000004044', 'CID000004095', 'CID000003446', 'CID000060184', 'CID000056339', 'CID000005210', 'CID000004634', 'CID000003734', 'CID000013342', 'CID000002019', 'CID005311048', 'CID000060854', 'CID000000861', 'CID000005253', 'CID000004748', 'CID000004419', 'CID000002658', 'CID000004727', 'CID000041693', 'CID000156419', 'CID000003059', 'CID000002476', 'CID003062316', 'CID005487301', 'CID000019090', 'CID000147912', 'CID000057469', 'CID000003890', 'CID000039765', 'CID000001546', 'CID000003379', 'CID000060147', 'CID000444033', 'CID000000937', 'CID000002907', 'CID000068844', 'CID000002610', 'CID000003121', 'CID000004679', 'CID000003902', 'CID000054786', 'CID000005525', 'CID000005352', 'CID000003929', 'CID000001302', 'CID000004201', 'CID000005040', 'CID000000206', 'CID000002088', 'CID000170361', 'CID000004140', 'CID000005596', 'CID000003911', 'CID006918453', 'CID000004991', 'CID000004159', 'CID000004583', 'CID004659568', 'CID000003672', 'CID000003494', 'CID000002801', 'CID000004536', 'CID000003161', 'CID000091270', 'CID000002895', 'CID000005408', 'CID000005394', 'CID000005656', 'CID000060612', 'CID000065027', 'CID000002471', 'CID005362420', 'CID000003305', 'CID000150311', 'CID000004943', 'CID000016231', 'CID000004138', 'CID000163742', 'CID000000838', 'CID000004691', 'CID000003954', 'CID000002474', 'CID000002182', 'CID000054454', 'CID000002949', 'CID000060831', 'CID000004542', 'CID000004601', 'CID000003043', 'CID004475485', 'CID000002554', 'CID000002675', 'CID000000085', 'CID000003702', 'CID000003869', 'CID000000119', 'CID000012536', 'CID000005412', 'CID000002576', 'CID000002308', 'CID000667490', 'CID000003397', 'CID000060843', 'CID000216239', 'CID000003826', 'CID000002375', 'CID000002274', 'CID000002462', 'CID000077992', 'CID000004409', 'CID000002520', 'CID000024011', 'CID000004091', 'CID000003763', 'CID000004189', 'CID000065999', 'CID000131536', 'CID000000191', 'CID000012620', 'CID000002720', 'CID000004920', 'CID000005095', 'CID000005478', 'CID000002524', 'CID000001134', 'CID005311181', 'CID000005523', 'CID000005878', 'CID000004212', 'CID000005512', 'CID000005379', 'CID000002173', 'CID000004428', 'CID000123606', 'CID000005651', 'CID000004075', 'CID000004993', 'CID000005052', 'CID006447131', 'CID000003222', 'CID000072054', 'CID000032797', 'CID000000450', 'CID000004211', 'CID005473385', 'CID000004932', 'CID000072938', 'CID000000815', 'CID000003405', 'CID000002092', 'CID000001775', 'CID000004510', 'CID000034312', 'CID000005771', 'CID000004259', 'CID000005358', 'CID000002284', 'CID000014888', 'CID005381226', 'CID000160051', 'CID000002099', 'CID000003639', 'CID005362070', 'CID005493444', 'CID000002578', 'CID003468412', 'CID000004635', 'CID000003062', 'CID005281007', 'CID000152945', 'CID000003516', 'CID000005391', 'CID000004485', 'CID000003476', 'CID000004771', 'CID000000772', 'CID000002656', 'CID000002646', 'CID000060754', 'CID000002818', 'CID000003724', 'CID000003386', 'CID000004451', 'CID000001046', 'CID000004171', 'CID000002435', 'CID000077993', 'CID000003419', 'CID000003877', 'CID000002909', 'CID000004900', 'CID000060877', 'CID000004053', 'CID000004107', 'CID000054547', 'CID000004411', 'CID000000581', 'CID000003648', 'CID000004745', 'CID000005731', 'CID000003143', 'CID000003279', 'CID000060953', 'CID000000158', 'CID005353980', 'CID000004506', 'CID000002650', 'CID000003937', 'CID000003652', 'CID000003372', 'CID000002541', 'CID000176870', 'CID000071329', 'CID000060871', 'CID000004058', 'CID000004856', 'CID000145068', 'CID000003414', 'CID000003007', 'CID003085017', 'CID000002283', 'CID000004927', 'CID000003157', 'CID000003736', 'CID000104865', 'CID000002130', 'CID000005472', 'CID000002978', 'CID000003690', 'CID000004909', 'CID000004893', 'CID000005184', 'CID000002631', 'CID000130881', 'CID000004603', 'CID000003158', 'CID000051634', 'CID000047320', 'CID000003154', 'CID000004917', 'CID000003899', 'CID000005978', 'CID000004645', 'CID000005538', 'CID000005672', 'CID000002666', 'CID000004195', 'CID000003367', 'CID000059708', 'CID000003410', 'CID000003003', 'CID000002803', 'CID000004463', 'CID000003741', 'CID000002162', 'CID000002512', 'CID000005717', 'CID000003715', 'CID000004609', 'CID000002156', 'CID000005215', 'CID000151165', 'CID000005556', 'CID000074989', 'CID000003168', 'CID000005291', 'CID000005212', 'CID000008953', 'CID000064147', 'CID000004599', 'CID000002955', 'CID000002712', 'CID000004192', 'CID000003559', 'CID006398525', 'CID000003278', 'CID000002951', 'CID000002177', 'CID000001978', 'CID000005073', 'CID000003676', 'CID000054688', 'CID000054374', 'CID000002244', 'CID000060852', 'CID000002265', 'CID000002786', 'CID000010631', 'CID000004200', 'CID000123631', 'CID000002727', 'CID000504578', 'CID000004054', 'CID000003075', 'CID000002487', 'CID000004829', 'CID000027661', 'CID000003198', 'CID000028112', 'CID000004739', 'CID000003823', 'CID000002269', 'CID000005077', 'CID000115237', 'CID000002267', 'CID000004614', 'CID000068740', 'CID000003478', 'CID000003385', 'CID000003365', 'CID000003325', 'CID000060198', 'CID009571074', 'CID000003964', 'CID005311027', 'CID000003658', 'CID000000143', 'CID000150610', 'CID000002891', 'CID000001206', 'CID000002405', 'CID000005645', 'CID000005401', 'CID000071273', 'CID000002311', 'CID000001071', 'CID003086258', 'CID000002266', 'CID000002083', 'CID000003749', 'CID000216326', 'CID000071616', 'CID000001983', 'CID000001986', 'CID000002678', 'CID000003793', 'CID000005533', 'CID000003510', 'CID000004473', 'CID000002022', 'CID000054808', 'CID000000942', 'CID000004497', 'CID006435110', 'CID000110634', 'CID000004674', 'CID000003339', 'CID003081884', 'CID000077999', 'CID005493381', 'CID000060835', 'CID000003461', 'CID000002550', 'CID000003255', 'CID000005245', 'CID000003640', 'CID006436173', 'CID000003449', 'CID004659569', 'CID000002622', 'CID000005152', 'CID000004168', 'CID000003784', 'CID000002812', 'CID000002771', 'CID000024486', 'CID000003696', 'CID000003382']\n",
      "645\n"
     ]
    }
   ],
   "source": [
    "drugs_in_nw = drugs_n_shit[\"# STITCH 1\"].unique().tolist()  \n",
    "drugs_in_nw += drugs_n_shit[\"STITCH 2\"].unique().tolist()\n",
    "drugs_in_nw = list(set(drugs_in_nw))\n",
    "\n",
    "print(drugs_in_nw)\n",
    "print(len(drugs_in_nw))\n"
   ]
  },
  {
   "cell_type": "code",
   "execution_count": 12,
   "metadata": {},
   "outputs": [],
   "source": [
    "drugs_present_in_both = []"
   ]
  },
  {
   "cell_type": "code",
   "execution_count": 15,
   "metadata": {},
   "outputs": [],
   "source": [
    "for idx, row in rank_drugs.iterrows():\n",
    "    drug = row[\"Drug Name\"]\n",
    "    rank = row[\"Rank\"]\n",
    "    if i_know_what_im_poppin(drug) in drugs_in_nw:\n",
    "        drugs_present_in_both.append([rank, drug])\n",
    "\n",
    "ranked_drugs_in_nw = pd.DataFrame(drugs_present_in_both,columns=[\"Rank\", \"Drug Name\"])"
   ]
  },
  {
   "cell_type": "code",
   "execution_count": 16,
   "metadata": {},
   "outputs": [
    {
     "name": "stdout",
     "output_type": "stream",
     "text": [
      "     Rank            Drug Name\n",
      "0       2            Metformin\n",
      "1       5           Amlodipine\n",
      "2       6           Metoprolol\n",
      "3       7            Albuterol\n",
      "4       8             Losartan\n",
      "..    ...                  ...\n",
      "100   270         Fluorouracil\n",
      "101   276  Medroxyprogesterone\n",
      "102   291     Chlorpheniramine\n",
      "103   295          Guaifenesin\n",
      "104   298              Azelate\n",
      "\n",
      "[105 rows x 2 columns]\n"
     ]
    }
   ],
   "source": [
    "print(ranked_drugs_in_nw)"
   ]
  },
  {
   "cell_type": "code",
   "execution_count": 17,
   "metadata": {},
   "outputs": [],
   "source": [
    "ranked_drugs_in_nw.to_csv(\"./ranked_drugs_matching.csv\")"
   ]
  }
 ],
 "metadata": {
  "kernelspec": {
   "display_name": "foggedaboutit",
   "language": "python",
   "name": "python3"
  },
  "language_info": {
   "codemirror_mode": {
    "name": "ipython",
    "version": 3
   },
   "file_extension": ".py",
   "mimetype": "text/x-python",
   "name": "python",
   "nbconvert_exporter": "python",
   "pygments_lexer": "ipython3",
   "version": "3.10.11"
  }
 },
 "nbformat": 4,
 "nbformat_minor": 2
}
