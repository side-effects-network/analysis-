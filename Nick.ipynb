{
 "cells": [
  {
   "cell_type": "code",
   "execution_count": 2,
   "metadata": {},
   "outputs": [],
   "source": [
    "import requests as rqs\n",
    "import pandas as pd"
   ]
  },
  {
   "cell_type": "code",
   "execution_count": 15,
   "metadata": {},
   "outputs": [
    {
     "data": {
      "text/html": [
       "<div>\n",
       "<style scoped>\n",
       "    .dataframe tbody tr th:only-of-type {\n",
       "        vertical-align: middle;\n",
       "    }\n",
       "\n",
       "    .dataframe tbody tr th {\n",
       "        vertical-align: top;\n",
       "    }\n",
       "\n",
       "    .dataframe thead th {\n",
       "        text-align: right;\n",
       "    }\n",
       "</style>\n",
       "<table border=\"1\" class=\"dataframe\">\n",
       "  <thead>\n",
       "    <tr style=\"text-align: right;\">\n",
       "      <th></th>\n",
       "      <th># STITCH 1</th>\n",
       "      <th>STITCH 2</th>\n",
       "      <th>Polypharmacy Side Effect</th>\n",
       "      <th>Side Effect Name</th>\n",
       "    </tr>\n",
       "  </thead>\n",
       "  <tbody>\n",
       "    <tr>\n",
       "      <th>0</th>\n",
       "      <td>CID000002173</td>\n",
       "      <td>CID000003345</td>\n",
       "      <td>C0151714</td>\n",
       "      <td>hypermagnesemia</td>\n",
       "    </tr>\n",
       "    <tr>\n",
       "      <th>1</th>\n",
       "      <td>CID000002173</td>\n",
       "      <td>CID000003345</td>\n",
       "      <td>C0035344</td>\n",
       "      <td>retinopathy of prematurity</td>\n",
       "    </tr>\n",
       "    <tr>\n",
       "      <th>2</th>\n",
       "      <td>CID000002173</td>\n",
       "      <td>CID000003345</td>\n",
       "      <td>C0004144</td>\n",
       "      <td>atelectasis</td>\n",
       "    </tr>\n",
       "    <tr>\n",
       "      <th>3</th>\n",
       "      <td>CID000002173</td>\n",
       "      <td>CID000003345</td>\n",
       "      <td>C0002063</td>\n",
       "      <td>alkalosis</td>\n",
       "    </tr>\n",
       "    <tr>\n",
       "      <th>4</th>\n",
       "      <td>CID000002173</td>\n",
       "      <td>CID000003345</td>\n",
       "      <td>C0004604</td>\n",
       "      <td>Back Ache</td>\n",
       "    </tr>\n",
       "  </tbody>\n",
       "</table>\n",
       "</div>"
      ],
      "text/plain": [
       "     # STITCH 1      STITCH 2 Polypharmacy Side Effect  \\\n",
       "0  CID000002173  CID000003345                 C0151714   \n",
       "1  CID000002173  CID000003345                 C0035344   \n",
       "2  CID000002173  CID000003345                 C0004144   \n",
       "3  CID000002173  CID000003345                 C0002063   \n",
       "4  CID000002173  CID000003345                 C0004604   \n",
       "\n",
       "             Side Effect Name  \n",
       "0             hypermagnesemia  \n",
       "1  retinopathy of prematurity  \n",
       "2                 atelectasis  \n",
       "3                   alkalosis  \n",
       "4                   Back Ache  "
      ]
     },
     "execution_count": 15,
     "metadata": {},
     "output_type": "execute_result"
    }
   ],
   "source": [
    "drugs_n_shit = pd.read_csv(\"./ChChse-Decagon_polypharmacy.csv\")\n",
    "drugs_n_shit.head(5)"
   ]
  },
  {
   "cell_type": "code",
   "execution_count": null,
   "metadata": {},
   "outputs": [],
   "source": [
    "#Ignora questa merda\n",
    "\n",
    "\"\"\"{'PC_Compounds': [{'id': {'id': {'cid': 2173}}, \n",
    "'atoms': {'aid': [1, 2, 3, 4, 5, 6, 7, 8, 9, 10, 11, 12, 13, 14, 15, 16, 17, 18, 19, 20, 21, 22, 23, 24, 25, 26, 27, 28, 29, 30, 31, 32, 33, 34, 35, 36, 37, 38, 39, 40, 41, 42], \n",
    "        'element': [16, 8, 8, 8, 8, 7, 7, 7, 6, 6, 6, 6, 6, 6, 6, 6, 6, 6, 6, 6, 6, 6, 6, 6, 1, 1, 1, 1, 1, 1, 1, 1, 1, 1, 1, 1, 1, 1, 1, 1, 1, 1], \n",
    "        'charge': [{'aid': 3, 'value': -1}]}, \n",
    "'bonds': {'aid1': [1, 1, 2, 3, 4, 5, 6, 6, 6, 7, 7, 7, 8, 8, 8, 9, 9, 10, 10, 10, 11, 11, 12, 12, 14, 14, 14, 15, 15, 15, 17, 18, 18, 19, 19, 20, 20, 21, 21, 22, 22, 23, 23, 24], \n",
    "        'aid2': [9, 10, 13, 16, 16, 17, 9, 11, 13, 12, 17, 34, 18, 36, 37, 12, 25, 11, 14, 15, 16, 26, 13, 27, 28, 29, 30, 31, 32, 33, 18, 19, 35, 20, 21, 22, 38, 23, 39, 24, 40, 24, 41, 42], \n",
    "        'order': [1, 1, 2, 1, 2, 2, 1, 1, 1, 1, 1, 1, 1, 1, 1, 1, 1, 1, 1, 1, 1, 1, 1, 1, 1, 1, 1, 1, 1, 1, 1, 1, 1, 2, 1, 1, 1, 2, 1, 2, 1, 1, 1, 1]}, \n",
    "'stereo': [{'tetrahedral': {'center': 9, 'above': 1, 'top': 6, 'bottom': 12, 'below': 25, 'parity': 3, 'type': 1}}, \n",
    "           {'tetrahedral': {'center': 11, 'above': 6, 'top': 10, 'bottom': 16, 'below': 26, 'parity': 3, 'type': 1}},\n",
    "            {'tetrahedral': {'center': 12, 'above': 7, 'top': 9, 'bottom': 13, 'below': 27, 'parity': 3, 'type': 1}},\n",
    "            {'tetrahedral': {'center': 18, 'above': 8, 'top': 17, 'bottom': 19, 'below': 35, 'parity': 3, 'type': 1}}], \n",
    "'coords': [{'type': [1, 5, 255], 'aid': [1, 2, 3, 4, 5, 6, 7, 8, 9, 10, 11, 12, 13, 14, 15, 16, 17, 18, 19, 20, 21, 22, 23, 24, 25, 26, 27, 28, 29, 30, 31, 32, 33, 34, 35, 36, 37, 38, 39, 40, 41, 42], \n",
    "            'conformers': [{'x': [9.2365, 6.5715, 8.8764, 10.5236, 5.3442, 8.2854, 6.5715, 5.1602, 8.2854, 9.8242, 9.2365, 7.2771, 7.2771, 10.6333, 10.6333, 9.5455, 5.605, 4.8994, 3.9329, 3.6721, 3.2273, 2.7056, 2.2608, 2, 8.1897, 8.7981, 6.7041, 10.9977, 11.1349, 10.2688, 10.2688, 11.1349, 10.9977, 6.7332, 4.4619, 4.7227, 5.7594, 4.1096, 3.389, 2.544, 1.8233, 1.4008], \n",
    "                            'y': [0.5261, -1.4957, -2.7862, -2.2509, -0.2925, -0.783, 0.9297, 2.3469, 0.217, -0.283, -1.092, 0.2212, -0.7871, 0.3048, -0.8707, -2.043, 0.6729, 1.3815, 1.1246, 0.1592, 1.8332, -0.0976, 1.5764, 0.611, 0.8296, -1.5304, -0.0155, -0.1968, 0.6693, 0.8064, -1.3723, -1.2352, -0.3691, 1.5283, 1.8208, 2.7862, 2.5061, -0.2801, 2.4317, -0.6961, 2.0157, 0.4517], \n",
    "                            'style': {'annotation': [3, 3, 3, 3, 8, 8, 8, 8, 8, 8], 'aid1': [9, 11, 12, 18, 19, 19, 20, 21, 22, 23], 'aid2': [1, 16, 7, 8, 20, 21, 22, 23, 24, 24]}}]}], \n",
    "'charge': -1, \n",
    "'props': [{'urn': {'label': 'Compound', 'name': 'Canonicalized', 'datatype': 5, 'release': '2021.05.07'}, \n",
    "                'value': {'ival': 1}}, \n",
    "          {'urn': {'label': 'Compound Complexity', 'datatype': 7, 'implementation': 'E_COMPLEXITY', 'version': '3.4.8.18', 'software': 'Cactvs', 'source': 'Xemistry GmbH', 'release': '2021.05.07'}, \n",
    "                'value': {'fval': 556}}, \n",
    "          {'urn': {'label': 'Count', 'name': 'Hydrogen Bond Acceptor', 'datatype': 5, 'implementation': 'E_NHACCEPTORS', 'version': '3.4.8.18', 'software': 'Cactvs', 'source': 'Xemistry GmbH', 'release': '2021.05.07'}, \n",
    "                'value': {'ival': 6}}, \n",
    "          {'urn': {'label': 'Count', 'name': 'Hydrogen Bond Donor', 'datatype': 5, 'implementation': 'E_NHDONORS', 'version': '3.4.8.18', 'software': 'Cactvs', 'source': 'Xemistry GmbH', 'release': '2021.05.07'}, \n",
    "                'value': {'ival': 2}}, \n",
    "          {'urn': {'label': 'Count', 'name': 'Rotatable Bond', 'datatype': 5, 'implementation': 'E_NROTBONDS', 'version': '3.4.8.18', 'software': 'Cactvs', 'source': 'Xemistry GmbH', 'release': '2021.05.07'}, \n",
    "                'value': {'ival': 3}}, \n",
    "          {'urn': {'label': 'Fingerprint', 'name': 'SubStructure Keys', 'datatype': 16, 'parameters': 'extended 2', 'implementation': 'E_SCREEN', 'version': '3.4.8.18', 'software': 'Cactvs', 'source': 'Xemistry GmbH', 'release': '2021.05.07'}, \n",
    "                'value': {'binary': '00000371E07B3800400000000000000000000000580160000000300000000580000000010000001E04100000000C28C5D804B20883C00008880221D218008200006000100888818804880A603AA09531942000649600B888071888808E00000000000000000000000000000000000000000000'}}, \n",
    "          {'urn': {'label': 'IUPAC Name', 'name': 'Allowed', 'datatype': 1, 'version': '2.7.0', 'software': 'Lexichem TK', 'source': 'OpenEye Scientific Software', 'release': '2021.05.07'}, \n",
    "                'value': {'sval': '6-[(2-amino-2-phenyl-acetyl)amino]-3,3-dimethyl-7-oxo-4-thia-1-azabicyclo[3.2.0]heptane-2-carboxylate'}}, \n",
    "          {'urn': {'label': 'IUPAC Name', 'name': 'CAS-like Style', 'datatype': 1, 'version': '2.7.0', 'software': 'Lexichem TK', 'source': 'OpenEye Scientific Software', 'release': '2021.05.07'}, \n",
    "                'value': {'sval': '6-[(2-amino-1-oxo-2-phenylethyl)amino]-3,3-dimethyl-7-oxo-4-thia-1-azabicyclo[3.2.0]heptane-2-carboxylate'}}, \n",
    "          {'urn': {'label': 'IUPAC Name', 'name': 'Markup', 'datatype': 1, 'version': '2.7.0', 'software': 'Lexichem TK', 'source': 'OpenEye Scientific Software', 'release': '2021.05.07'}, \n",
    "                'value': {'sval': '6-[(2-amino-2-phenylacetyl)amino]-3,3-dimethyl-7-oxo-4-thia-1-azabicyclo[3.2.0]heptane-2-carboxylate'}}, \n",
    "          {'urn': {'label': 'IUPAC Name', 'name': 'Preferred', 'datatype': 1, 'version': '2.7.0', 'software': 'Lexichem TK', 'source': 'OpenEye Scientific Software', 'release': '2021.05.07'}, \n",
    "                'value': {'sval': '6-[(2-amino-2-phenylacetyl)amino]-3,3-dimethyl-7-oxo-4-thia-1-azabicyclo[3.2.0]heptane-2-carboxylate'}}, \n",
    "          {'urn': {'label': 'IUPAC Name', 'name': 'Systematic', 'datatype': 1, 'version': '2.7.0', 'software': 'Lexichem TK', 'source': 'OpenEye Scientific Software', 'release': '2021.05.07'}, \n",
    "                'value': {'sval': '6-[(2-azanyl-2-phenyl-ethanoyl)amino]-3,3-dimethyl-7-oxidanylidene-4-thia-1-azabicyclo[3.2.0]heptane-2-carboxylate'}}, \n",
    "          {'urn': {'label': 'IUPAC Name', 'name': 'Traditional', 'datatype': 1, 'version': '2.7.0', 'software': 'Lexichem TK', 'source': 'OpenEye Scientific Software', 'release': '2021.05.07'}, \n",
    "                'value': {'sval': '6-[(2-amino-2-phenyl-acetyl)amino]-7-keto-3,3-dimethyl-4-thia-1-azabicyclo[3.2.0]heptane-2-carboxylate'}}, \n",
    "          {'urn': {'label': 'InChI', 'name': 'Standard', 'datatype': 1, 'version': '1.0.6', 'software': 'InChI', 'source': 'iupac.org', 'release': '2021.05.07'}, \n",
    "                'value': {'sval': 'InChI=1S/C16H19N3O4S/c1-16(2)11(15(22)23)19-13(21)10(14(19)24-16)18-12(20)9(17)8-6-4-3-5-7-8/h3-7,9-11,14H,17H2,1-2H3,(H,18,20)(H,22,23)/p-1'}}, \n",
    "          {'urn': {'label': 'InChIKey', 'name': 'Standard', 'datatype': 1, 'version': '1.0.6', 'software': 'InChI', 'source': 'iupac.org', 'release': '2021.05.07'}, \n",
    "                'value': {'sval': 'AVKUERGKIZMTKX-UHFFFAOYSA-M'}}, \n",
    "          {'urn': {'label': 'Log P', 'name': 'XLogP3', 'datatype': 7, 'version': '3.0', 'source': 'sioc-ccbg.ac.cn', 'release': '2021.05.07'}, \n",
    "                'value': {'fval': -0.5}}, \n",
    "          {'urn': {'label': 'Mass', 'name': 'Exact', 'datatype': 1, 'version': '2.1', 'software': 'PubChem', 'source': 'ncbi.nlm.nih.gov', 'release': '2021.05.07'}, \n",
    "                'value': {'sval': '348.10180224'}}, \n",
    "          {'urn': {'label': 'Molecular Formula', 'datatype': 1, 'version': '2.1', 'software': 'PubChem', 'source': 'ncbi.nlm.nih.gov', 'release': '2021.05.07'}, \n",
    "                'value': {'sval': 'C16H18N3O4S-'}}, \n",
    "          {'urn': {'label': 'Molecular Weight', 'datatype': 1, 'version': '2.1', 'software': 'PubChem', 'source': 'ncbi.nlm.nih.gov', 'release': '2021.05.07'}, \n",
    "                'value': {'sval': '348.4'}}, \n",
    "          {'urn': {'label': 'SMILES', 'name': 'Absolute', 'datatype': 1, 'version': '2.3.0', 'software': 'OEChem', 'source': 'OpenEye Scientific Software', 'release': '2024.12.12'}, \n",
    "                'value': {'sval': 'CC1(C(N2C(S1)C(C2=O)NC(=O)C(C3=CC=CC=C3)N)C(=O)[O-])C'}}, \n",
    "          {'urn': {'label': 'SMILES', 'name': 'Canonical', 'datatype': 1, 'version': '2.3.0', 'software': 'OEChem', 'source': 'OpenEye Scientific Software', 'release': '2021.05.07'}, \n",
    "                'value': {'sval': 'CC1(C(N2C(S1)C(C2=O)NC(=O)C(C3=CC=CC=C3)N)C(=O)[O-])C'}}, \n",
    "          {'urn': {'label': 'SMILES', 'name': 'Isomeric', 'datatype': 1, 'version': '2.3.0', 'software': 'OEChem', 'source': 'OpenEye Scientific Software', 'release': '2021.05.07'}, \n",
    "                'value': {'sval': 'CC1(C(N2C(S1)C(C2=O)NC(=O)C(C3=CC=CC=C3)N)C(=O)[O-])C'}}, \n",
    "          {'urn': {'label': 'Topological', 'name': 'Polar Surface Area', 'datatype': 7, 'implementation': 'E_TPSA', 'version': '3.4.8.18', 'software': 'Cactvs', 'source': 'Xemistry GmbH', 'release': '2021.05.07'}, \n",
    "                'value': {'fval': 141}}, \n",
    "          {'urn': {'label': 'Weight', 'name': 'MonoIsotopic', 'datatype': 1, 'version': '2.1', 'software': 'PubChem', 'source': 'ncbi.nlm.nih.gov', 'release': '2021.05.07'}, \n",
    "                'value': {'sval': '348.10180224'}}], \n",
    "'count': {'heavy_atom': 24, 'atom_chiral': 4, 'atom_chiral_def': 0, 'atom_chiral_undef': 4, 'bond_chiral': 0, 'bond_chiral_def': 0, 'bond_chiral_undef': 0, 'isotope_atom': 0, 'covalent_unit': 1, 'tautomers': -1}}]}\"\"\"\n"
   ]
  },
  {
   "cell_type": "code",
   "execution_count": 13,
   "metadata": {},
   "outputs": [],
   "source": [
    "def what_we_poppin_boyz(cid):\n",
    "    url = f\"https://pubchem.ncbi.nlm.nih.gov/rest/pug/compound/cid/{cid}/property/Title/TXT\"\n",
    "    response = rqs.get(url)\n",
    "\n",
    "    if response.status_code == 200:\n",
    "        return response.text.strip()  # Rimuove eventuali spazi o newline extra\n",
    "    else:\n",
    "        return \"Errore nella richiesta\""
   ]
  },
  {
   "cell_type": "code",
   "execution_count": 16,
   "metadata": {},
   "outputs": [],
   "source": [
    "cid = 2173"
   ]
  },
  {
   "cell_type": "code",
   "execution_count": 14,
   "metadata": {},
   "outputs": [
    {
     "name": "stdout",
     "output_type": "stream",
     "text": [
      "6-{[Amino(phenyl)acetyl]amino}-3,3-dimethyl-7-oxo-4-thia-1-azabicyclo[3.2.0]heptane-2-carboxylate\n"
     ]
    }
   ],
   "source": [
    "print(what_we_poppin_boyz(cid))"
   ]
  }
 ],
 "metadata": {
  "kernelspec": {
   "display_name": "foggedaboutit",
   "language": "python",
   "name": "python3"
  },
  "language_info": {
   "codemirror_mode": {
    "name": "ipython",
    "version": 3
   },
   "file_extension": ".py",
   "mimetype": "text/x-python",
   "name": "python",
   "nbconvert_exporter": "python",
   "pygments_lexer": "ipython3",
   "version": "3.10.11"
  }
 },
 "nbformat": 4,
 "nbformat_minor": 2
}
